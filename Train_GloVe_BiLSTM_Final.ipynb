{
  "cells": [
    {
      "cell_type": "markdown",
      "id": "N5BrH7JWA0NX",
      "metadata": {
        "id": "N5BrH7JWA0NX"
      },
      "source": [
        "# GloVe-BiLSTM\n"
      ]
    },
    {
      "cell_type": "markdown",
      "id": "sHvOsRV8u06Y",
      "metadata": {
        "id": "sHvOsRV8u06Y"
      },
      "source": [
        "## Imports and fixed SEED"
      ]
    },
    {
      "cell_type": "code",
      "execution_count": null,
      "id": "eccdf5f6-db40-4d10-881d-ad78e30840bd",
      "metadata": {
        "colab": {
          "base_uri": "https://localhost:8080/"
        },
        "id": "eccdf5f6-db40-4d10-881d-ad78e30840bd",
        "outputId": "128245e5-cc91-44b6-96fd-ab1050caa549"
      },
      "outputs": [
        {
          "output_type": "stream",
          "name": "stdout",
          "text": [
            "cuda\n"
          ]
        }
      ],
      "source": [
        "import torch\n",
        "import numpy as np\n",
        "from torchtext.legacy import data\n",
        "\n",
        "SEED = 1234\n",
        "\n",
        "torch.manual_seed(SEED)\n",
        "np.random.seed(SEED)\n",
        "torch.backends.cudnn.enabled = False \n",
        "torch.backends.cudnn.benchmark = False\n",
        "torch.backends.cudnn.deterministic = True\n",
        "\n",
        "# Only necessary for GPU\n",
        "device = torch.device('cuda' if torch.cuda.is_available() else 'cpu')\n",
        "print(device)"
      ]
    },
    {
      "cell_type": "markdown",
      "id": "RVAZPCWuv2-_",
      "metadata": {
        "id": "RVAZPCWuv2-_"
      },
      "source": [
        "## Data Set definition\n",
        "\n",
        "Here we define the Dataset Structure and load the training and test dataset as TabularDataset.\n",
        "\n",
        "The columns PhraseId and SentenceId are artifacts of the raw Dataset-structure and can be omitted for training and testing."
      ]
    },
    {
      "cell_type": "code",
      "execution_count": null,
      "id": "b26ea9a1",
      "metadata": {
        "colab": {
          "base_uri": "https://localhost:8080/"
        },
        "id": "b26ea9a1",
        "outputId": "fbde221f-4e4e-4e8d-9341-ec9df3590a07"
      },
      "outputs": [
        {
          "output_type": "stream",
          "name": "stdout",
          "text": [
            "{'Phrase': ['A', 'series', 'of', 'escapades', 'demonstrating', 'the', 'adage', 'that', 'what', 'is', 'good', 'for', 'the', 'goose', 'is', 'also', 'good', 'for', 'the', 'gander', ',', 'some', 'of', 'which', 'occasionally', 'amuses', 'but', 'none', 'of', 'which', 'amounts', 'to', 'much', 'of', 'a', 'story', '.'], 'Sentiment': '1'}\n"
          ]
        }
      ],
      "source": [
        "# Create Field objects\n",
        "# use Spacy tokenizer\n",
        "# specify English language\n",
        "# need lenghts for padded sequences\n",
        "PHRASE = data.Field(tokenize = 'spacy',\n",
        "                  tokenizer_language = 'en_core_web_sm',\n",
        "                  include_lengths = True)\n",
        "SENTIMENT = data.LabelField()\n",
        "\n",
        "# Create tuples representing the columns\n",
        "fields = [\n",
        "  (None, None), # ignore PhraseId column\n",
        "  (None, None), # ignore SentenceId column\n",
        "  ('Phrase', PHRASE),\n",
        "  ('Sentiment', SENTIMENT)\n",
        "]\n",
        "\n",
        "# Load the dataset in tsv format\n",
        "train_ds, test_ds = data.TabularDataset.splits(\n",
        "   path = './data',\n",
        "   train = 'train.tsv',\n",
        "   test = 'test_mapped.tsv',\n",
        "   format = 'tsv',\n",
        "   fields = fields,\n",
        "   skip_header = True\n",
        ")\n",
        "\n",
        "# Check an example\n",
        "print(vars(train_ds[0]))"
      ]
    },
    {
      "cell_type": "markdown",
      "id": "RjUwRtCk0k-1",
      "metadata": {
        "id": "RjUwRtCk0k-1"
      },
      "source": [
        "## Train and Validation Split\n",
        "\n",
        "Here we split the Data into Training and Validation-Set. We used the common split of 70/30 as it represents a good amount of training data, while at the same time having a rather large validation-set. This gives meaningful results in terms of generalization of the validation score.\n",
        "\n",
        "Another important setting is the usage of stratification based on the sentiment labels. This ensures an equal distribution of the labels in the training and validation set."
      ]
    },
    {
      "cell_type": "code",
      "execution_count": null,
      "id": "288ba4d3",
      "metadata": {
        "colab": {
          "base_uri": "https://localhost:8080/"
        },
        "id": "288ba4d3",
        "outputId": "8d1466b0-2513-4f6a-86e6-73ed8d136373"
      },
      "outputs": [
        {
          "output_type": "stream",
          "name": "stdout",
          "text": [
            "Number of training examples: 109241\n",
            "Number of validation examples: 46819\n",
            "Number of testing examples: 65327\n"
          ]
        }
      ],
      "source": [
        "import random\n",
        "\n",
        "# Create validation dataset; splits 70/30 by default\n",
        "train_ds, valid_ds = train_ds.split(split_ratio=0.7, \n",
        "                                    stratified=True, \n",
        "                                    strata_field='Sentiment', \n",
        "                                    random_state = random.seed(SEED))\n",
        "\n",
        "print(f'Number of training examples: {len(train_ds)}')\n",
        "print(f'Number of validation examples: {len(valid_ds)}')\n",
        "print(f'Number of testing examples: {len(test_ds)}')"
      ]
    },
    {
      "cell_type": "markdown",
      "id": "ZNQQjcea2qL1",
      "metadata": {
        "id": "ZNQQjcea2qL1"
      },
      "source": [
        "## Creation of vocabulary\n",
        "\n",
        "Create key for every unique Phrase- or Sentiment-Token and assign to unique value.\n",
        "\n",
        "Then create word embedding for every token in the Phrase vocabulary.\n",
        "\n",
        "Note: The vocabulary DataField \"SENTIMENT\" is not created from the training data to ensure the correct indexing \"{'0': 0, '1': 1, '2': 2, '3': 3, '4': 4}\", and instead a vector of key value pairs is provided."
      ]
    },
    {
      "cell_type": "code",
      "execution_count": null,
      "id": "11c3dd72",
      "metadata": {
        "colab": {
          "base_uri": "https://localhost:8080/"
        },
        "id": "11c3dd72",
        "outputId": "5fae47e9-f81a-4bcb-dec0-c51e2a46de5a"
      },
      "outputs": [
        {
          "output_type": "stream",
          "name": "stdout",
          "text": [
            "Unique tokens in PHRASE vocabulary: 17080\n",
            "Unique tokens in SENTIMENT vocabulary: 5\n",
            "Number of tokens, vector dimension: torch.Size([17080, 100])\n"
          ]
        }
      ],
      "source": [
        "# Build vocabulary (using Glove pre-trained word embeddings, dimensionality = 100)\n",
        "# unknown words in our vocabulary are initialized via a Gaussian distribution\n",
        "PHRASE.build_vocab(train_ds,\n",
        "                    vectors = \"glove.6B.100d\", \n",
        "                    unk_init = torch.Tensor.normal_\n",
        "                    )\n",
        "# embedding methods: #\"glove.6B.100d\";\"glove.6B.50d\";\"glove.6B.200d\";\"glove.6B.300d\";\"fasttext.en.300d\"\n",
        "\n",
        "sentiment_labels = np.array(['0', '1', '2', '3', '4'])\n",
        "\n",
        "#SENTIMENT.build_vocab(train_ds) # old version\n",
        "SENTIMENT.build_vocab(sentiment_labels) # Custom indexing is necessary for correct mapping; {'0': 0, '1': 1, '2': 2, '3': 3, '4': 4}\n",
        "\n",
        "print(f\"Unique tokens in PHRASE vocabulary: {len(PHRASE.vocab)}\")\n",
        "print(f\"Unique tokens in SENTIMENT vocabulary: {len(SENTIMENT.vocab)}\")\n",
        "print(f\"Number of tokens, vector dimension: {PHRASE.vocab.vectors.shape}\")"
      ]
    },
    {
      "cell_type": "markdown",
      "id": "ezWmBUiFB-Eg",
      "metadata": {
        "id": "ezWmBUiFB-Eg"
      },
      "source": [
        "## Creation of the Iterators\n",
        "\n",
        "The Iterators are used to yield one batch of the data at a time.\n",
        "\n",
        "It is noteworthy that the batch size is a parameter that can be tuned."
      ]
    },
    {
      "cell_type": "code",
      "execution_count": null,
      "id": "e9f7050d",
      "metadata": {
        "id": "e9f7050d"
      },
      "outputs": [],
      "source": [
        "BATCH_SIZE = 64 #32, 64, 128, 256, 512\n",
        "\n",
        "# Creating the iterators\n",
        "# need sorting within batch for padded sequences\n",
        "train_iterator, valid_iterator, test_iterator = data.BucketIterator.splits(\n",
        "    (train_ds, valid_ds, test_ds), \n",
        "    batch_size = BATCH_SIZE,\n",
        "    sort = False,\n",
        "    sort_key = lambda x: len(x.Phrase),\n",
        "    sort_within_batch = True,\n",
        "    device = device)"
      ]
    },
    {
      "cell_type": "markdown",
      "id": "c8hN3cd0DYnM",
      "metadata": {
        "id": "c8hN3cd0DYnM"
      },
      "source": [
        "## Model Definition\n"
      ]
    },
    {
      "cell_type": "code",
      "execution_count": null,
      "id": "c6670f83",
      "metadata": {
        "id": "c6670f83"
      },
      "outputs": [],
      "source": [
        "import torch.nn as nn\n",
        "\n",
        "class LSTM(nn.Module):\n",
        "    def __init__(self, vocab_size, embedding_dim, hidden_dim, output_dim, n_layers, \n",
        "                 bidirectional, dropout, pad_idx):\n",
        "        \n",
        "        super().__init__()\n",
        "        \n",
        "        #Embedding layer\n",
        "        self.embedding = nn.Embedding(vocab_size, embedding_dim, padding_idx = pad_idx)\n",
        "        \n",
        "        #LSTM layer\n",
        "        self.rnn = nn.LSTM(embedding_dim, \n",
        "                           hidden_dim, \n",
        "                           num_layers=n_layers, \n",
        "                           bidirectional=bidirectional, \n",
        "                           dropout=dropout)\n",
        "        #Fully-Connected Linear Layer\n",
        "        self.fc = nn.Linear(hidden_dim * 2, output_dim)\n",
        "        \n",
        "        #Dropout functionality for reqularizotion\n",
        "        self.dropout = nn.Dropout(dropout)\n",
        "        \n",
        "    def forward(self, text, text_lengths):\n",
        "        \n",
        "        #text = [sent len, batch size]\n",
        "        \n",
        "        embedded = self.dropout(self.embedding(text))\n",
        "        \n",
        "        #embedded = [sent len, batch size, emb dim]\n",
        "        \n",
        "        #pack embedding sequence to process only the non-padded elements of our sequence\n",
        "        # lengths need to be on CPU!\n",
        "        packed_embedded = nn.utils.rnn.pack_padded_sequence(embedded, text_lengths.to('cpu'))\n",
        "        \n",
        "        packed_output, (hidden, cell) = self.rnn(packed_embedded)\n",
        "        \n",
        "        #unpack sequence; no used in our case\n",
        "        output, output_lengths = nn.utils.rnn.pad_packed_sequence(packed_output)\n",
        "\n",
        "        #output = [sent len, batch size, hid dim * num directions]\n",
        "        #output over padding tokens are zero tensors\n",
        "        \n",
        "        #hidden = [num layers * num directions, batch size, hid dim]\n",
        "        #cell = [num layers * num directions, batch size, hid dim]\n",
        "        \n",
        "        #concat the final forward (hidden[-2,:,:]) and backward (hidden[-1,:,:]) hidden layers\n",
        "        #and apply dropout\n",
        "        \n",
        "        hidden = self.dropout(torch.cat((hidden[-2,:,:], hidden[-1,:,:]), dim = 1))\n",
        "                \n",
        "        #hidden = [batch size, hid dim * num directions]\n",
        "            \n",
        "        return self.fc(hidden)"
      ]
    },
    {
      "cell_type": "markdown",
      "source": [
        "Here the weight initialization function is defined, which could be used to replace the default weight initialization.\n",
        "\n",
        "For tuning, we attempt to initialize the weights of the LSTM layers differently, while fixing the weight initialization of linear layers to Xavier Normal."
      ],
      "metadata": {
        "id": "bk96oiwuotsL"
      },
      "id": "bk96oiwuotsL"
    },
    {
      "cell_type": "code",
      "execution_count": null,
      "id": "ac6831c9",
      "metadata": {
        "id": "ac6831c9"
      },
      "outputs": [],
      "source": [
        "# Define weight initialization function for each layer\n",
        "def weights_init(layer):\n",
        "    print(type(layer))\n",
        "    if type(layer) == nn.Linear: # initialize weights of the linear layers \n",
        "        nn.init.xavier_normal_(layer.weight)\n",
        "    elif type(layer) == nn.LSTM: # initialize weights of the LSTM layers\n",
        "        for name, param in layer.named_parameters():\n",
        "            if 'weight' in name:\n",
        "              nn.init.xavier_normal_(param)\n",
        "              # Other weight initialization methods:\n",
        "              #nn.init.xavier_uniform_(param)\n",
        "              #nn.init.orthogonal_(param)\n",
        "              #torch.nn.init.ones_(param)\n",
        "              #torch.nn.init.zeros_(param)"
      ]
    },
    {
      "cell_type": "markdown",
      "id": "Q4dwr4qdF4XL",
      "metadata": {
        "id": "Q4dwr4qdF4XL"
      },
      "source": [
        "## Parameter and Model Initialization\n",
        "\n"
      ]
    },
    {
      "cell_type": "code",
      "execution_count": null,
      "id": "35f4cbe3",
      "metadata": {
        "id": "35f4cbe3"
      },
      "outputs": [],
      "source": [
        "INPUT_DIM = len(PHRASE.vocab)\n",
        "EMBEDDING_DIM = 100                         #50, 100, 200, 300 -> equal to the pre-trained vectors' dimension\n",
        "HIDDEN_DIM = 256                            #128, 256, 512\n",
        "OUTPUT_DIM = len(SENTIMENT.vocab)\n",
        "N_LAYERS = 2                                #2, 4, 8\n",
        "BIDIRECTIONAL = True                        #True, False\n",
        "DROPOUT = 0.25                              #0.25, 0.5, 0.75\n",
        "PAD_IDX = PHRASE.vocab.stoi[PHRASE.pad_token]\n",
        "\n",
        "# model initialization\n",
        "model = LSTM(INPUT_DIM, \n",
        "            EMBEDDING_DIM, \n",
        "            HIDDEN_DIM, \n",
        "            OUTPUT_DIM, \n",
        "            N_LAYERS, \n",
        "            BIDIRECTIONAL, \n",
        "            DROPOUT, \n",
        "            PAD_IDX)\n",
        "#model.apply(weights_init)"
      ]
    },
    {
      "cell_type": "code",
      "execution_count": null,
      "id": "f6ff5149",
      "metadata": {
        "colab": {
          "base_uri": "https://localhost:8080/"
        },
        "id": "f6ff5149",
        "outputId": "319a340f-d13c-4c0d-aa2c-848fa5a05c79"
      },
      "outputs": [
        {
          "output_type": "stream",
          "name": "stdout",
          "text": [
            "The model has 4,020,709 trainable parameters\n"
          ]
        }
      ],
      "source": [
        "\n",
        "def count_parameters(model):\n",
        "# tells us how many trainable parameters our model has \n",
        "# so we can compare the number of parameters across different models\n",
        "\n",
        "    return sum(p.numel() for p in model.parameters() if p.requires_grad)\n",
        "\n",
        "print(f'The model has {count_parameters(model):,} trainable parameters')"
      ]
    },
    {
      "cell_type": "markdown",
      "id": "af6db29c",
      "metadata": {
        "id": "af6db29c"
      },
      "source": [
        "Copy pre-trained word embeddings into the embedding layer"
      ]
    },
    {
      "cell_type": "code",
      "execution_count": null,
      "id": "c695ca29",
      "metadata": {
        "colab": {
          "base_uri": "https://localhost:8080/"
        },
        "id": "c695ca29",
        "outputId": "1971dd83-8799-4a0a-e764-f408800fb2b0"
      },
      "outputs": [
        {
          "output_type": "stream",
          "name": "stdout",
          "text": [
            "torch.Size([17080, 100])\n"
          ]
        }
      ],
      "source": [
        "pretrained_embeddings = PHRASE.vocab.vectors\n",
        "\n",
        "# check the size of the pre-trained embeddings;  [vocab size, embedding dim]\n",
        "print(pretrained_embeddings.shape)"
      ]
    },
    {
      "cell_type": "code",
      "execution_count": null,
      "id": "eaec64db",
      "metadata": {
        "colab": {
          "base_uri": "https://localhost:8080/"
        },
        "id": "eaec64db",
        "outputId": "1e698f6d-0e2f-433b-e735-b28b10102a95"
      },
      "outputs": [
        {
          "output_type": "execute_result",
          "data": {
            "text/plain": [
              "tensor([[-0.1117, -0.4966,  0.1631,  ...,  1.2647, -0.2753, -0.1325],\n",
              "        [-0.8555, -0.7208,  1.3755,  ...,  0.0825, -1.1314,  0.3997],\n",
              "        [-0.0382, -0.2449,  0.7281,  ..., -0.1459,  0.8278,  0.2706],\n",
              "        ...,\n",
              "        [-0.3552,  0.4732,  0.8660,  ...,  0.2483, -0.0049,  0.8731],\n",
              "        [-0.1431,  0.0487,  0.0565,  ..., -0.0402, -0.3744,  0.5650],\n",
              "        [-0.3860,  0.3999,  0.2512,  ..., -0.0450, -0.2409,  0.6169]])"
            ]
          },
          "metadata": {},
          "execution_count": 40
        }
      ],
      "source": [
        "# replace the initial weights of the embedding layer with the pre-trained embeddings\n",
        "model.embedding.weight.data.copy_(pretrained_embeddings)"
      ]
    },
    {
      "cell_type": "code",
      "execution_count": null,
      "id": "b554b042",
      "metadata": {
        "colab": {
          "base_uri": "https://localhost:8080/"
        },
        "id": "b554b042",
        "outputId": "5b50eb2d-5cb1-4313-999a-805e0e2409ea"
      },
      "outputs": [
        {
          "output_type": "stream",
          "name": "stdout",
          "text": [
            "tensor([[ 0.0000,  0.0000,  0.0000,  ...,  0.0000,  0.0000,  0.0000],\n",
            "        [ 0.0000,  0.0000,  0.0000,  ...,  0.0000,  0.0000,  0.0000],\n",
            "        [-0.0382, -0.2449,  0.7281,  ..., -0.1459,  0.8278,  0.2706],\n",
            "        ...,\n",
            "        [-0.3552,  0.4732,  0.8660,  ...,  0.2483, -0.0049,  0.8731],\n",
            "        [-0.1431,  0.0487,  0.0565,  ..., -0.0402, -0.3744,  0.5650],\n",
            "        [-0.3860,  0.3999,  0.2512,  ..., -0.0450, -0.2409,  0.6169]])\n"
          ]
        }
      ],
      "source": [
        "UNK_IDX = PHRASE.vocab.stoi[PHRASE.unk_token]\n",
        "\n",
        "#  initialize <unk> and <pad> tokens to all zeros\n",
        "#  they are irrelevant for calculating the sentiment\n",
        "model.embedding.weight.data[UNK_IDX] = torch.zeros(EMBEDDING_DIM)\n",
        "model.embedding.weight.data[PAD_IDX] = torch.zeros(EMBEDDING_DIM)\n",
        "\n",
        "print(model.embedding.weight.data)"
      ]
    },
    {
      "cell_type": "markdown",
      "id": "4rUdvcvGJ0-O",
      "metadata": {
        "id": "4rUdvcvGJ0-O"
      },
      "source": [
        "## Optimizer\n",
        "\n",
        "- Adaptive Momentum (Adam) Optimizer with included Momentum Term and Gradient Normalization. \n",
        "- Regularization Term (weight decay) with small parameter lambda is additionally applied."
      ]
    },
    {
      "cell_type": "code",
      "execution_count": null,
      "id": "aa4e5fe0",
      "metadata": {
        "id": "aa4e5fe0"
      },
      "outputs": [],
      "source": [
        "import torch.optim as optim\n",
        "\n",
        "optimizer = optim.Adam(model.parameters(), weight_decay = 0.00001)\n",
        "\n",
        "#weight_decay=0.001,0.0001,0.00001\n",
        "#optim.SGD(model.parameters(),lr=0.001), optim.Adam, optim.RMSprop "
      ]
    },
    {
      "cell_type": "markdown",
      "id": "HvYQCF1sJ3Ck",
      "metadata": {
        "id": "HvYQCF1sJ3Ck"
      },
      "source": [
        "## Loss Function and Accuracy Method\n",
        "\n",
        "For a multi-class classification task we use the CrossEntropy Loss and categorical accuracy as our performance metrics."
      ]
    },
    {
      "cell_type": "code",
      "execution_count": null,
      "id": "93edf04d",
      "metadata": {
        "id": "93edf04d"
      },
      "outputs": [],
      "source": [
        "criterion = nn.CrossEntropyLoss()\n",
        "\n",
        "model = model.to(device)\n",
        "criterion = criterion.to(device)"
      ]
    },
    {
      "cell_type": "code",
      "execution_count": null,
      "id": "d5e65924",
      "metadata": {
        "id": "d5e65924"
      },
      "outputs": [],
      "source": [
        "def categorical_accuracy(preds, y):\n",
        "    #Returns accuracy per batch, i.e. if you get 8/10 right, this returns 0.8, NOT 8\n",
        "    \n",
        "    top_pred = preds.argmax(1, keepdim = True)\n",
        "    correct = top_pred.eq(y.view_as(top_pred)).sum()\n",
        "    acc = correct.float() / y.shape[0]\n",
        "    return acc"
      ]
    },
    {
      "cell_type": "markdown",
      "id": "WafqzhlbL8k2",
      "metadata": {
        "id": "WafqzhlbL8k2"
      },
      "source": [
        "## Training Method and Evaluation Method\n",
        "\n",
        "The train method gets called in every epoch and iterates through the dataset in batches. (forward pass, loss calculation, backpropagation, weight update)\n",
        "\n",
        "The evaluate method calculates the performance of the model on the validation set using the accuracy metric."
      ]
    },
    {
      "cell_type": "code",
      "execution_count": null,
      "id": "ce7e76bc",
      "metadata": {
        "id": "ce7e76bc"
      },
      "outputs": [],
      "source": [
        "def train(model, iterator, optimizer, criterion):\n",
        "    \n",
        "    epoch_loss = 0\n",
        "    epoch_acc = 0\n",
        "    \n",
        "    model.train()\n",
        "    \n",
        "    for batch in iterator:\n",
        "        \n",
        "        optimizer.zero_grad()\n",
        "        \n",
        "        text, text_lengths = batch.Phrase\n",
        "        \n",
        "        predictions = model(text, text_lengths)\n",
        "        \n",
        "        loss = criterion(predictions, batch.Sentiment)\n",
        "        \n",
        "        acc = categorical_accuracy(predictions, batch.Sentiment)\n",
        "        \n",
        "        loss.backward()\n",
        "        \n",
        "        optimizer.step()\n",
        "        \n",
        "        epoch_loss += loss.item()\n",
        "        epoch_acc += acc.item()\n",
        "        \n",
        "    return epoch_loss / len(iterator), epoch_acc / len(iterator)"
      ]
    },
    {
      "cell_type": "code",
      "execution_count": null,
      "id": "59af27c4",
      "metadata": {
        "id": "59af27c4"
      },
      "outputs": [],
      "source": [
        "def evaluate(model, iterator, criterion):\n",
        "    \n",
        "    epoch_loss = 0\n",
        "    epoch_acc = 0\n",
        "    \n",
        "    model.eval()\n",
        "    \n",
        "    with torch.no_grad():\n",
        "    \n",
        "        for batch in iterator:\n",
        "\n",
        "            text, text_lengths = batch.Phrase\n",
        "            \n",
        "            predictions = model(text, text_lengths)\n",
        "            \n",
        "            loss = criterion(predictions, batch.Sentiment)\n",
        "            \n",
        "            acc = categorical_accuracy(predictions, batch.Sentiment)\n",
        "\n",
        "            epoch_loss += loss.item()\n",
        "            epoch_acc += acc.item()\n",
        "        \n",
        "    return epoch_loss / len(iterator), epoch_acc / len(iterator)"
      ]
    },
    {
      "cell_type": "markdown",
      "id": "W4OOYyKPOvTc",
      "metadata": {
        "id": "W4OOYyKPOvTc"
      },
      "source": [
        "## Training and Evaluation"
      ]
    },
    {
      "cell_type": "markdown",
      "id": "63OkVzYAOOVn",
      "metadata": {
        "id": "63OkVzYAOOVn"
      },
      "source": [
        " Auxiliary function to calculate the duration of the training time for one epoch."
      ]
    },
    {
      "cell_type": "code",
      "execution_count": null,
      "id": "6035fbfb",
      "metadata": {
        "id": "6035fbfb"
      },
      "outputs": [],
      "source": [
        "import time\n",
        "def epoch_time(start_time, end_time):\n",
        "    # calculate the duration of the training time for one epoch\n",
        "    \n",
        "    elapsed_time = end_time - start_time\n",
        "    elapsed_mins = int(elapsed_time / 60)\n",
        "    elapsed_secs = int(elapsed_time - (elapsed_mins * 60))\n",
        "    return elapsed_mins, elapsed_secs"
      ]
    },
    {
      "cell_type": "markdown",
      "id": "pvvXG26DP70T",
      "metadata": {
        "id": "pvvXG26DP70T"
      },
      "source": [
        "Here the final training loop is executed N times. N is therefore the amount of Training-Epochs. Calls training and evaluation method in every epoch and saves the model with the highest evaluation accuracy."
      ]
    },
    {
      "cell_type": "code",
      "execution_count": null,
      "id": "782910ac",
      "metadata": {
        "colab": {
          "base_uri": "https://localhost:8080/"
        },
        "id": "782910ac",
        "outputId": "2d930b2a-6a5b-4efc-9085-0054e9066f0f"
      },
      "outputs": [
        {
          "output_type": "stream",
          "name": "stdout",
          "text": [
            "Epoch: 01 | Epoch Time: 0m 43s\n",
            "\tTrain Loss: 0.977 | Train Acc: 60.08%\n",
            "\t Val. Loss: 0.860 |  Val. Acc: 64.66%\n",
            "Epoch: 02 | Epoch Time: 0m 43s\n",
            "\tTrain Loss: 0.815 | Train Acc: 66.22%\n",
            "\t Val. Loss: 0.804 |  Val. Acc: 67.03%\n",
            "Epoch: 03 | Epoch Time: 0m 43s\n",
            "\tTrain Loss: 0.742 | Train Acc: 69.15%\n",
            "\t Val. Loss: 0.794 |  Val. Acc: 67.36%\n",
            "Epoch: 04 | Epoch Time: 0m 43s\n",
            "\tTrain Loss: 0.690 | Train Acc: 71.47%\n",
            "\t Val. Loss: 0.795 |  Val. Acc: 67.73%\n",
            "Epoch: 05 | Epoch Time: 0m 43s\n",
            "\tTrain Loss: 0.646 | Train Acc: 73.05%\n",
            "\t Val. Loss: 0.808 |  Val. Acc: 67.84%\n",
            "Epoch: 06 | Epoch Time: 0m 43s\n",
            "\tTrain Loss: 0.609 | Train Acc: 74.52%\n",
            "\t Val. Loss: 0.845 |  Val. Acc: 66.68%\n",
            "Epoch: 07 | Epoch Time: 0m 43s\n",
            "\tTrain Loss: 0.580 | Train Acc: 75.61%\n",
            "\t Val. Loss: 0.885 |  Val. Acc: 67.02%\n",
            "Epoch: 08 | Epoch Time: 0m 43s\n",
            "\tTrain Loss: 0.549 | Train Acc: 76.72%\n",
            "\t Val. Loss: 0.910 |  Val. Acc: 66.31%\n",
            "Epoch: 09 | Epoch Time: 0m 43s\n",
            "\tTrain Loss: 0.523 | Train Acc: 78.01%\n",
            "\t Val. Loss: 0.960 |  Val. Acc: 65.82%\n",
            "Epoch: 10 | Epoch Time: 0m 43s\n",
            "\tTrain Loss: 0.500 | Train Acc: 78.68%\n",
            "\t Val. Loss: 1.011 |  Val. Acc: 65.49%\n"
          ]
        }
      ],
      "source": [
        "N_EPOCHS = 10\n",
        "\n",
        "best_valid_loss = float('inf')\n",
        "\n",
        "# to track the average training loss per epoch as the model trains\n",
        "avg_train_losses = []\n",
        "# to track the average validation loss per epoch as the model trains\n",
        "avg_valid_losses = []\n",
        "# to track the average training accuracy per epoch as the model trains\n",
        "avg_train_acc = []\n",
        "# to track the average validation accuracy per epoch as the model trains\n",
        "avg_valid_acc = []\n",
        "\n",
        "for epoch in range(N_EPOCHS):\n",
        "\n",
        "    start_time = time.time()\n",
        "    \n",
        "    train_loss, train_acc = train(model, train_iterator, optimizer, criterion)\n",
        "    valid_loss, valid_acc = evaluate(model, valid_iterator, criterion)\n",
        "    \n",
        "    end_time = time.time()\n",
        "\n",
        "    epoch_mins, epoch_secs = epoch_time(start_time, end_time)\n",
        "    \n",
        "    if valid_loss < best_valid_loss:\n",
        "        best_valid_loss = valid_loss\n",
        "        torch.save(model.state_dict(), 'model_LSTM.pt')\n",
        "\n",
        "    # calculate average loss over an epoch\n",
        "    avg_train_losses.append(train_loss)\n",
        "    avg_valid_losses.append(valid_loss)\n",
        "    avg_train_acc.append(train_acc)\n",
        "    avg_valid_acc.append(valid_acc)\n",
        "    \n",
        "    print(f'Epoch: {epoch+1:02} | Epoch Time: {epoch_mins}m {epoch_secs}s')\n",
        "    print(f'\\tTrain Loss: {train_loss:.3f} | Train Acc: {train_acc*100:.2f}%')\n",
        "    print(f'\\t Val. Loss: {valid_loss:.3f} |  Val. Acc: {valid_acc*100:.2f}%')"
      ]
    },
    {
      "cell_type": "markdown",
      "id": "1de11b3b",
      "metadata": {
        "id": "1de11b3b"
      },
      "source": [
        "# Visualization"
      ]
    },
    {
      "cell_type": "markdown",
      "id": "6db12b8f",
      "metadata": {
        "id": "6db12b8f"
      },
      "source": [
        "Loss Visualization"
      ]
    },
    {
      "cell_type": "code",
      "execution_count": null,
      "id": "pkHl9bYbbZwU",
      "metadata": {
        "colab": {
          "base_uri": "https://localhost:8080/",
          "height": 497
        },
        "id": "pkHl9bYbbZwU",
        "outputId": "436ce4a5-1a11-4e57-84f8-912621bf8ee6"
      },
      "outputs": [
        {
          "output_type": "display_data",
          "data": {
            "image/png": "[encoded data removed]",
            "text/plain": [
              "<Figure size 720x576 with 1 Axes>"
            ]
          },
          "metadata": {
            "needs_background": "light"
          }
        }
      ],
      "source": [
        "import matplotlib.pyplot as plt\n",
        "\n",
        "# Visualize the loss as the network trained\n",
        "fig = plt.figure(figsize=(10,8))\n",
        "plt.plot(range(1,len(avg_train_losses)+1),avg_train_losses, label='Training Loss')\n",
        "plt.plot(range(1,len(avg_valid_losses)+1),avg_valid_losses,label='Validation Loss')\n",
        "\n",
        "# find position of lowest validation loss\n",
        "minposs = avg_valid_losses.index(min(avg_valid_losses))+1 \n",
        "plt.axvline(minposs, linestyle='--', color='r',label='Early Stopping Checkpoint')\n",
        "plt.xlabel('epochs')\n",
        "plt.ylabel('loss')\n",
        "\n",
        "#plt.grid(True)\n",
        "plt.legend()\n",
        "#plt.tight_layout()\n",
        "plt.show()\n",
        "fig.savefig('loss_plot.png', bbox_inches='tight')"
      ]
    },
    {
      "cell_type": "markdown",
      "id": "09f278d5",
      "metadata": {
        "id": "09f278d5"
      },
      "source": [
        "Accuracy Visualization"
      ]
    },
    {
      "cell_type": "code",
      "execution_count": null,
      "id": "1ab8bf07",
      "metadata": {
        "colab": {
          "base_uri": "https://localhost:8080/",
          "height": 497
        },
        "id": "1ab8bf07",
        "outputId": "b7b324be-9e47-40ce-8308-13e0fea4d9be"
      },
      "outputs": [
        {
          "output_type": "display_data",
          "data": {
            "image/png": "[encoded data removed]",
            "text/plain": [
              "<Figure size 720x576 with 1 Axes>"
            ]
          },
          "metadata": {
            "needs_background": "light"
          }
        }
      ],
      "source": [
        "# Visualize the accuracy as the network trained\n",
        "fig = plt.figure(figsize=(10,8))\n",
        "plt.plot(range(1,len(avg_train_acc)+1),avg_train_acc, label='Training Accuracy')\n",
        "plt.plot(range(1,len(avg_valid_acc)+1),avg_valid_acc,label='Validation Accuracy')\n",
        "\n",
        "# find position of highest validation accuracy\n",
        "minposs = avg_valid_acc.index(max(avg_valid_acc))+1\n",
        "plt.axvline(minposs, linestyle='--', color='r',label='Early Stopping Checkpoint')\n",
        "plt.xlabel('epochs')\n",
        "plt.ylabel('accuracy')\n",
        "\n",
        "#plt.grid(True)\n",
        "plt.legend()\n",
        "#plt.tight_layout()\n",
        "plt.show()\n",
        "fig.savefig('acc_plot.png', bbox_inches='tight')"
      ]
    }
  ],
  "metadata": {
    "accelerator": "GPU",
    "colab": {
      "collapsed_sections": [],
      "name": "Train_GloVe_BiLSTM_Final.ipynb",
      "provenance": []
    },
    "kernelspec": {
      "display_name": "Python 3 (ipykernel)",
      "language": "python",
      "name": "python3"
    },
    "language_info": {
      "codemirror_mode": {
        "name": "ipython",
        "version": 3
      },
      "file_extension": ".py",
      "mimetype": "text/x-python",
      "name": "python",
      "nbconvert_exporter": "python",
      "pygments_lexer": "ipython3",
      "version": "3.7.9"
    }
  },
  "nbformat": 4,
  "nbformat_minor": 5
}
{
  "cells": [
    {
      "cell_type": "markdown",
      "source": [
        "# GloVe-BiLSTM Evaluation on the Test Set"
      ],
      "metadata": {
        "id": "bNdd-FnG203c"
      },
      "id": "bNdd-FnG203c"
    },
    {
      "cell_type": "markdown",
      "source": [
        "## Imports, Fixed SEED, GPU\n",
        "\n",
        "These settings are chosen in a way to ensure best reproducibilty of the results.\n",
        "\n",
        "Use GPU as computing device if available to improve computation time drastically."
      ],
      "metadata": {
        "id": "wI55s1JE3KGf"
      },
      "id": "wI55s1JE3KGf"
    },
    {
      "cell_type": "code",
      "execution_count": 90,
      "id": "eccdf5f6-db40-4d10-881d-ad78e30840bd",
      "metadata": {
        "id": "eccdf5f6-db40-4d10-881d-ad78e30840bd",
        "colab": {
          "base_uri": "https://localhost:8080/"
        },
        "outputId": "4d0fcdcb-a441-47f1-d760-4903511cae36"
      },
      "outputs": [
        {
          "output_type": "stream",
          "name": "stdout",
          "text": [
            "cuda\n"
          ]
        }
      ],
      "source": [
        "import torch\n",
        "import numpy as np\n",
        "from torchtext.legacy import data\n",
        "\n",
        "SEED = 1234\n",
        "\n",
        "torch.manual_seed(SEED)\n",
        "np.random.seed(SEED)\n",
        "torch.backends.cudnn.enabled = False \n",
        "torch.backends.cudnn.benchmark = False\n",
        "torch.backends.cudnn.deterministic = True\n",
        "\n",
        "# Only necessary for GPU\n",
        "device = torch.device('cuda' if torch.cuda.is_available() else 'cpu')\n",
        "print(device)\n"
      ]
    },
    {
      "cell_type": "markdown",
      "source": [
        "## Data Set definition\n",
        "\n",
        "Here we define the Dataset Structure and load the training and test dataset as TabularDataset.\n",
        "\n",
        "The columns PhraseId and SentenceId are artifacts of the raw Dataset-structure and can be omitted for training and testing.\n",
        "\n",
        "`test_mapped.tsv` was created by mapping the phrases to the right sentiments. "
      ],
      "metadata": {
        "id": "s2XSzQps3ZjM"
      },
      "id": "s2XSzQps3ZjM"
    },
    {
      "cell_type": "code",
      "execution_count": 91,
      "id": "b26ea9a1",
      "metadata": {
        "id": "b26ea9a1"
      },
      "outputs": [],
      "source": [
        "# Create Field objects\n",
        "PHRASE = data.Field(tokenize = 'spacy',\n",
        "                  tokenizer_language = 'en_core_web_sm',\n",
        "                  include_lengths = True)\n",
        "SENTIMENT = data.LabelField()\n",
        "\n",
        "# Create tuples representing the columns\n",
        "fields = [\n",
        "  (None, None), # ignore PhraseId column\n",
        "  (None, None), # ignore SentenceId column\n",
        "  ('Phrase', PHRASE),\n",
        "  ('Sentiment', SENTIMENT)\n",
        "]\n",
        "\n",
        "# Load the dataset in tsv format\n",
        "train_ds, test_ds = data.TabularDataset.splits(\n",
        "   path = './data',\n",
        "   train = 'train.tsv',\n",
        "   test = 'test_mapped.tsv',\n",
        "   format = 'tsv',\n",
        "   fields = fields,\n",
        "   skip_header = True\n",
        ")"
      ]
    },
    {
      "cell_type": "markdown",
      "source": [
        "## Creation of vocabulary\n",
        "\n",
        "Create key for every unique Phrase- or Sentiment-Token and assign to unique value.\n",
        "\n",
        "Then create word embedding for every token in the Phrase vocabulary.\n",
        "\n",
        "Note: The vocabulary DataField \"SENTIMENT\" is not created from the training data to preserve the correct indexing: \n",
        "\n",
        "\"{'0': 0, '1': 1, '2': 2, '3': 3, '4': 4}\", and instead a vector of key value pairs is provided."
      ],
      "metadata": {
        "id": "awHCW3YQDrHS"
      },
      "id": "awHCW3YQDrHS"
    },
    {
      "cell_type": "code",
      "execution_count": 92,
      "id": "11c3dd72",
      "metadata": {
        "id": "11c3dd72",
        "colab": {
          "base_uri": "https://localhost:8080/"
        },
        "outputId": "5796688d-8bb0-49e2-f2cc-bf0d53198a6d"
      },
      "outputs": [
        {
          "output_type": "stream",
          "name": "stdout",
          "text": [
            "Unique tokens in PHRASE vocabulary: 17149\n",
            "Unique tokens in SENTIMENT vocabulary: 5\n",
            "Number of tokens, vector dimension: torch.Size([17149, 100])\n"
          ]
        }
      ],
      "source": [
        "# Build vocabulary (using Glove pre-trained word embeddings, dimensionality = 100)\n",
        "PHRASE.build_vocab(train_ds,\n",
        "                    vectors = \"glove.6B.100d\", \n",
        "                    unk_init = torch.Tensor.normal_)\n",
        "\n",
        "labels = np.array(['0', '1', '2', '3', '4'])\n",
        "\n",
        "SENTIMENT.build_vocab(labels) # Custom indexing is necessary for correct mapping; {'0': 0, '1': 1, '2': 2, '3': 3, '4': 4}\n",
        "\n",
        "print(f\"Unique tokens in PHRASE vocabulary: {len(PHRASE.vocab)}\")\n",
        "print(f\"Unique tokens in SENTIMENT vocabulary: {len(SENTIMENT.vocab)}\")\n",
        "print(f\"Number of tokens, vector dimension: {PHRASE.vocab.vectors.shape}\")"
      ]
    },
    {
      "cell_type": "markdown",
      "source": [
        "## Creation of the Iterators\n",
        "\n",
        "The Iterators are used to yield one batch of the data at a time."
      ],
      "metadata": {
        "id": "YsVk_AGwD1jj"
      },
      "id": "YsVk_AGwD1jj"
    },
    {
      "cell_type": "code",
      "execution_count": 93,
      "id": "e9f7050d",
      "metadata": {
        "id": "e9f7050d"
      },
      "outputs": [],
      "source": [
        "BATCH_SIZE = 32\n",
        "\n",
        "# Creating the iterators\n",
        "train_iterator, test_iterator = data.BucketIterator.splits(\n",
        "    (train_ds, test_ds), \n",
        "    batch_size = BATCH_SIZE,\n",
        "    sort = False,\n",
        "    sort_key = lambda x: len(x.Phrase),\n",
        "    sort_within_batch = True,\n",
        "    device = device)"
      ]
    },
    {
      "cell_type": "markdown",
      "source": [
        "## Model Definition"
      ],
      "metadata": {
        "id": "gpKL4lg8D9mT"
      },
      "id": "gpKL4lg8D9mT"
    },
    {
      "cell_type": "code",
      "execution_count": 94,
      "id": "c6670f83",
      "metadata": {
        "id": "c6670f83"
      },
      "outputs": [],
      "source": [
        "import torch.nn as nn\n",
        "\n",
        "class GloVe_BiLSTM(nn.Module):\n",
        "    \"\"\"\n",
        "    This class defines the model, its layers and t \n",
        "\n",
        "    param self: model instance\n",
        "    param input_dim: int value of vocabulary size\n",
        "    param embedding_dim: int value of embedding dimension\n",
        "    param hidden_dim: int value of hidden layer dimension\n",
        "    param output_dim: int value of number of classes\n",
        "    param n_layers: int value of number of hidden layers\n",
        "    param bidirectional: boolean value whether LSTM is bidirectional or not\n",
        "    param dropout: float value of the dropout rate\n",
        "    param pad_idx: int value of <pad> token index\n",
        "    \"\"\"\n",
        "    def __init__(self, input_dim, embedding_dim, hidden_dim, output_dim, n_layers, \n",
        "                 bidirectional, dropout, pad_idx):\n",
        "        super().__init__()\n",
        "        \n",
        "        self.embedding = nn.Embedding(input_dim, embedding_dim, padding_idx = pad_idx)\n",
        "        \n",
        "        self.lstm = nn.LSTM(embedding_dim, \n",
        "                           hidden_dim, \n",
        "                           num_layers=n_layers, \n",
        "                           bidirectional=bidirectional, \n",
        "                           dropout=dropout)\n",
        "        \n",
        "        self.fc = nn.Linear(hidden_dim * 2, output_dim)\n",
        "        \n",
        "        self.dropout = nn.Dropout(dropout)\n",
        "        \n",
        "    def forward(self, text, text_lengths):\n",
        "        \"\"\"\n",
        "        forward pass through the model, gets called when calling a model instance\n",
        "\n",
        "        :param self: model instance\n",
        "        :param text: tokenized sentence [shape: sent length , batch size]\n",
        "        :param text_lengths: int value of the longest sentence length in batch [shape: batch size]\n",
        "        \n",
        "        :return predicted labels [shape: batch size , num classes]\n",
        "        \"\"\"\n",
        "        #text = [sent len, batch size]\n",
        "        \n",
        "        embedded = self.dropout(self.embedding(text))\n",
        "        \n",
        "        #embedded = [sent len, batch size, emb dim]\n",
        "        \n",
        "        #pack sequence\n",
        "        # lengths need to be on CPU!\n",
        "        packed_embedded = nn.utils.rnn.pack_padded_sequence(embedded, text_lengths.to('cpu'))\n",
        "        \n",
        "        packed_output, (hidden, cell) = self.lstm(packed_embedded)\n",
        "        \n",
        "        #unpack sequence\n",
        "        output, output_lengths = nn.utils.rnn.pad_packed_sequence(packed_output)\n",
        "\n",
        "        #output = [sent len, batch size, hid dim * num directions]\n",
        "        #output over padding tokens are zero tensors\n",
        "        \n",
        "        #hidden = [num layers * num directions, batch size, hid dim]\n",
        "        #cell = [num layers * num directions, batch size, hid dim]\n",
        "        \n",
        "        #concat the final forward (hidden[-2,:,:]) and backward (hidden[-1,:,:]) hidden layers\n",
        "        #and apply dropout\n",
        "        \n",
        "        hidden = self.dropout(torch.cat((hidden[-2,:,:], hidden[-1,:,:]), dim = 1))\n",
        "                \n",
        "        #hidden = [batch size, hid dim * num directions]\n",
        "            \n",
        "        return self.fc(hidden)"
      ]
    },
    {
      "cell_type": "markdown",
      "source": [
        "## Hyper-Parameter Definition\n"
      ],
      "metadata": {
        "id": "96D61a3hEASu"
      },
      "id": "96D61a3hEASu"
    },
    {
      "cell_type": "code",
      "execution_count": 95,
      "id": "35f4cbe3",
      "metadata": {
        "id": "35f4cbe3"
      },
      "outputs": [],
      "source": [
        "INPUT_DIM = len(PHRASE.vocab)\n",
        "EMBEDDING_DIM = 100\n",
        "HIDDEN_DIM = 256\n",
        "OUTPUT_DIM = len(SENTIMENT.vocab)\n",
        "N_LAYERS = 2\n",
        "BIDIRECTIONAL = True\n",
        "DROPOUT = 0.25\n",
        "PAD_IDX = PHRASE.vocab.stoi[PHRASE.pad_token]\n",
        "\n",
        "model = GloVe_BiLSTM( INPUT_DIM, \n",
        "                      EMBEDDING_DIM, \n",
        "                      HIDDEN_DIM, \n",
        "                      OUTPUT_DIM, \n",
        "                      N_LAYERS, \n",
        "                      BIDIRECTIONAL, \n",
        "                      DROPOUT, \n",
        "                      PAD_IDX)"
      ]
    },
    {
      "cell_type": "code",
      "source": [
        "def count_parameters(model):\n",
        "    \"\"\"\n",
        "        compute number of model parameters\n",
        "\n",
        "        :param model: model instance\n",
        "        \n",
        "        :return int value of parameter number\n",
        "    \"\"\"\n",
        "    return sum(p.numel() for p in model.parameters() if p.requires_grad)\n",
        "\n",
        "print(f'The model has {count_parameters(model):,} trainable parameters')"
      ],
      "metadata": {
        "colab": {
          "base_uri": "https://localhost:8080/"
        },
        "id": "EEcRdNdnERsG",
        "outputId": "4d3f576e-b16d-4c58-a74c-7f9b510135cc"
      },
      "id": "EEcRdNdnERsG",
      "execution_count": 96,
      "outputs": [
        {
          "output_type": "stream",
          "name": "stdout",
          "text": [
            "The model has 4,027,609 trainable parameters\n"
          ]
        }
      ]
    },
    {
      "cell_type": "code",
      "execution_count": 97,
      "id": "baca65b8",
      "metadata": {
        "colab": {
          "base_uri": "https://localhost:8080/"
        },
        "id": "baca65b8",
        "outputId": "5d3dc853-fbd8-474a-c2b7-b9671c1de096"
      },
      "outputs": [
        {
          "output_type": "execute_result",
          "data": {
            "text/plain": [
              "tensor([[-0.1117, -0.4966,  0.1631,  ...,  1.2647, -0.2753, -0.1325],\n",
              "        [-0.8555, -0.7208,  1.3755,  ...,  0.0825, -1.1314,  0.3997],\n",
              "        [-0.0382, -0.2449,  0.7281,  ..., -0.1459,  0.8278,  0.2706],\n",
              "        ...,\n",
              "        [ 2.1798, -1.5601, -0.4398,  ..., -0.0960, -0.7768, -1.0890],\n",
              "        [-0.3552,  0.4732,  0.8660,  ...,  0.2483, -0.0049,  0.8731],\n",
              "        [-0.1431,  0.0487,  0.0565,  ..., -0.0402, -0.3744,  0.5650]])"
            ]
          },
          "metadata": {},
          "execution_count": 97
        }
      ],
      "source": [
        "pretrained_embeddings = PHRASE.vocab.vectors\n",
        "\n",
        "# replace the initial weights of the embedding layer with the pre-trained embeddings\n",
        "model.embedding.weight.data.copy_(pretrained_embeddings)"
      ]
    },
    {
      "cell_type": "code",
      "execution_count": 98,
      "id": "b554b042",
      "metadata": {
        "id": "b554b042"
      },
      "outputs": [],
      "source": [
        "UNK_IDX = PHRASE.vocab.stoi[PHRASE.unk_token]\n",
        "\n",
        "#  initialize <unk> and <pad> tokens to all zeros\n",
        "model.embedding.weight.data[UNK_IDX] = torch.zeros(EMBEDDING_DIM)\n",
        "model.embedding.weight.data[PAD_IDX] = torch.zeros(EMBEDDING_DIM)"
      ]
    },
    {
      "cell_type": "markdown",
      "source": [
        "## Optimizer\n",
        "\n",
        "\n",
        "- Adaptive Momentum (Adam) Optimizer with included Momentum Term and Gradient Normalization.\n",
        "\n",
        "- Regularization Term (weight decay) with small parameter lambda is additionally applied."
      ],
      "metadata": {
        "id": "sRrnhLssEl0r"
      },
      "id": "sRrnhLssEl0r"
    },
    {
      "cell_type": "code",
      "execution_count": 99,
      "id": "aa4e5fe0",
      "metadata": {
        "id": "aa4e5fe0",
        "colab": {
          "base_uri": "https://localhost:8080/"
        },
        "outputId": "5bd464cd-e41d-46f8-953d-2d4ed14bf17a"
      },
      "outputs": [
        {
          "output_type": "stream",
          "name": "stdout",
          "text": [
            "Adam (\n",
            "Parameter Group 0\n",
            "    amsgrad: False\n",
            "    betas: (0.9, 0.999)\n",
            "    eps: 1e-08\n",
            "    lr: 0.001\n",
            "    weight_decay: 1e-05\n",
            ")\n"
          ]
        }
      ],
      "source": [
        "import torch.optim as optim\n",
        "\n",
        "optimizer = optim.Adam(model.parameters(), weight_decay = 0.00001)\n",
        "print(optimizer)"
      ]
    },
    {
      "cell_type": "markdown",
      "source": [
        "## Loss Function and Accuracy Method\n",
        "\n",
        "For a multi-class classification task we use the CrossEntropy Loss and categorical accuracy as our performance metrics."
      ],
      "metadata": {
        "id": "Hg-KDio_Epjl"
      },
      "id": "Hg-KDio_Epjl"
    },
    {
      "cell_type": "code",
      "execution_count": 100,
      "id": "93edf04d",
      "metadata": {
        "id": "93edf04d"
      },
      "outputs": [],
      "source": [
        "criterion = nn.CrossEntropyLoss()\n",
        "\n",
        "model = model.to(device)\n",
        "criterion = criterion.to(device)"
      ]
    },
    {
      "cell_type": "code",
      "execution_count": 101,
      "id": "d5e65924",
      "metadata": {
        "id": "d5e65924"
      },
      "outputs": [],
      "source": [
        "def categorical_accuracy(preds, y):\n",
        "    \"\"\"\n",
        "        Returns relative accuracy per batch\n",
        "\n",
        "        :param preds: predicted labels [shape: batch size x num classes]\n",
        "        :param y: true labels [shape: batch size]\n",
        "        \n",
        "        :return predicted label [shape: batch size x num classes]\n",
        "    \"\"\"\n",
        "    top_pred = preds.argmax(1, keepdim = True)\n",
        "    correct = top_pred.eq(y.view_as(top_pred)).sum()\n",
        "    acc = correct.float() / y.shape[0]\n",
        "    return acc"
      ]
    },
    {
      "cell_type": "markdown",
      "source": [
        "## Training Method and Evaluation Method\n",
        "\n",
        "The train method gets called in every epoch and iterates through the dataset in batches. \n",
        "(forward pass, loss calculation, backpropagation, weight update)\n",
        "\n",
        "The evaluate method calculates the performance of the model on the test set using the accuracy metric."
      ],
      "metadata": {
        "id": "ty6NA8sREs9l"
      },
      "id": "ty6NA8sREs9l"
    },
    {
      "cell_type": "code",
      "execution_count": 102,
      "id": "ce7e76bc",
      "metadata": {
        "id": "ce7e76bc"
      },
      "outputs": [],
      "source": [
        "def train(model, iterator, optimizer, criterion):\n",
        "    \n",
        "    \"\"\"\n",
        "        Iterates through the dataset in batches with the following steps:\n",
        "        forward pass -> loss calculation -> backpropagation -> weight update\n",
        "\n",
        "        :param model: model instance\n",
        "        :param iterator: train iterator\n",
        "        :param optimizer: predefined optimizer\n",
        "        :param criterion: predefined loss function\n",
        "\n",
        "        :return value of train loss and train accuracy\n",
        "    \"\"\"\n",
        "\n",
        "    epoch_loss = 0\n",
        "    epoch_acc = 0\n",
        "    \n",
        "    model.train()\n",
        "    \n",
        "    for batch in iterator:\n",
        "        \n",
        "        optimizer.zero_grad()\n",
        "        \n",
        "        text, text_lengths = batch.Phrase\n",
        "        \n",
        "        predictions = model(text, text_lengths)\n",
        "        \n",
        "        loss = criterion(predictions, batch.Sentiment)\n",
        "        \n",
        "        acc = categorical_accuracy(predictions, batch.Sentiment)\n",
        "        \n",
        "        loss.backward()\n",
        "        \n",
        "        optimizer.step()\n",
        "        \n",
        "        epoch_loss += loss.item()\n",
        "        epoch_acc += acc.item()\n",
        "        \n",
        "    return epoch_loss / len(iterator), epoch_acc / len(iterator)"
      ]
    },
    {
      "cell_type": "code",
      "execution_count": 103,
      "id": "59af27c4",
      "metadata": {
        "id": "59af27c4"
      },
      "outputs": [],
      "source": [
        "\n",
        "def evaluate(model, iterator, criterion):\n",
        "\n",
        "    \"\"\"\n",
        "        calculates the loss and the accuracy of the model on the test set\n",
        "\n",
        "        :param model: model instance\n",
        "        :param iterator: test iterator\n",
        "        :param criterion: predefined loss function\n",
        "\n",
        "        :return value of test loss and test accuracy\n",
        "    \"\"\"\n",
        "    epoch_loss = 0\n",
        "    epoch_acc = 0\n",
        "    \n",
        "    model.eval()\n",
        "    \n",
        "    with torch.no_grad():\n",
        "      \n",
        "        for batch in iterator:\n",
        "\n",
        "            text, text_lengths = batch.Phrase\n",
        "            \n",
        "            predictions = model(text, text_lengths)\n",
        "            \n",
        "            loss = criterion(predictions, batch.Sentiment)\n",
        "            \n",
        "            acc = categorical_accuracy(predictions, batch.Sentiment)\n",
        "\n",
        "            epoch_loss += loss.item()\n",
        "            epoch_acc += acc.item()\n",
        "\n",
        "            y_true.append(batch.Sentiment)\n",
        "            y_pred.append(predictions)      \n",
        "        \n",
        "    return epoch_loss / len(iterator), epoch_acc / len(iterator)"
      ]
    },
    {
      "cell_type": "markdown",
      "source": [
        "## Training and Evaluation"
      ],
      "metadata": {
        "id": "cnm7x2LPFK6A"
      },
      "id": "cnm7x2LPFK6A"
    },
    {
      "cell_type": "markdown",
      "source": [
        "Auxiliary function to calculate the duration of the training time for one \n",
        "epoch."
      ],
      "metadata": {
        "id": "pL8gnhzjFMjU"
      },
      "id": "pL8gnhzjFMjU"
    },
    {
      "cell_type": "code",
      "execution_count": 104,
      "id": "6035fbfb",
      "metadata": {
        "id": "6035fbfb"
      },
      "outputs": [],
      "source": [
        "import time\n",
        "\n",
        "def epoch_time(start_time, end_time):\n",
        "    \"\"\"\n",
        "        calculates epoch minutes and epoch seconds\n",
        "\n",
        "        :param start_time: float value of start time\n",
        "        :param end_time: float value of end time\n",
        "\n",
        "        :return epoch minutes and epoch seconds\n",
        "    \"\"\"\n",
        "    elapsed_time = end_time - start_time\n",
        "    elapsed_mins = int(elapsed_time / 60)\n",
        "    elapsed_secs = int(elapsed_time - (elapsed_mins * 60))\n",
        "    return elapsed_mins, elapsed_secs"
      ]
    },
    {
      "cell_type": "markdown",
      "source": [
        "### Training\n",
        "\n",
        "Here the final training loop is executed N times. N is therefore the amount of training epochs. Early Stopping during Finetuning resulted in our choice of 4 epochs."
      ],
      "metadata": {
        "id": "wqy3pzf5FRcj"
      },
      "id": "wqy3pzf5FRcj"
    },
    {
      "cell_type": "code",
      "execution_count": 105,
      "id": "782910ac",
      "metadata": {
        "id": "782910ac",
        "colab": {
          "base_uri": "https://localhost:8080/"
        },
        "outputId": "3c4fa054-13c5-48ec-9088-cc6f7e78e6d6"
      },
      "outputs": [
        {
          "output_type": "stream",
          "name": "stdout",
          "text": [
            "Epoch: 01 | Epoch Time: 1m 2s\n",
            "\tTrain Loss: 0.925 | Train Acc: 61.97%\n",
            "Epoch: 02 | Epoch Time: 1m 2s\n",
            "\tTrain Loss: 0.777 | Train Acc: 67.97%\n",
            "Epoch: 03 | Epoch Time: 1m 1s\n",
            "\tTrain Loss: 0.720 | Train Acc: 70.21%\n",
            "Epoch: 04 | Epoch Time: 1m 0s\n",
            "\tTrain Loss: 0.682 | Train Acc: 71.77%\n"
          ]
        }
      ],
      "source": [
        "# Train the model with all of the training data\n",
        "N_EPOCHS = 4\n",
        "\n",
        "best_valid_loss = float('inf')\n",
        "\n",
        "for epoch in range(N_EPOCHS):\n",
        "\n",
        "    start_time = time.time()\n",
        "    \n",
        "    train_loss, train_acc = train(model, train_iterator, optimizer, criterion)\n",
        "    \n",
        "    end_time = time.time()\n",
        "\n",
        "    epoch_mins, epoch_secs = epoch_time(start_time, end_time)\n",
        "    \n",
        "    torch.save(model.state_dict(), 'model_LSTM.pt')\n",
        "    \n",
        "    print(f'Epoch: {epoch+1:02} | Epoch Time: {epoch_mins}m {epoch_secs}s')\n",
        "    print(f'\\tTrain Loss: {train_loss:.3f} | Train Acc: {train_acc*100:.2f}%')"
      ]
    },
    {
      "cell_type": "markdown",
      "source": [
        "### Evaluation"
      ],
      "metadata": {
        "id": "Xbk88lexcumy"
      },
      "id": "Xbk88lexcumy"
    },
    {
      "cell_type": "code",
      "execution_count": 113,
      "id": "f911ec9c",
      "metadata": {
        "id": "f911ec9c",
        "colab": {
          "base_uri": "https://localhost:8080/"
        },
        "outputId": "92819805-5dcc-4ad4-9f17-9425342c2437"
      },
      "outputs": [
        {
          "output_type": "stream",
          "name": "stdout",
          "text": [
            "***** Final Evaluation Score *****\n",
            "Test Loss: 0.844 | Test Acc: 66.31%\n"
          ]
        }
      ],
      "source": [
        "# Test the trained model on the test data\n",
        "model.load_state_dict(torch.load('model_LSTM.pt'))\n",
        "\n",
        "#True and Predicted Label lists for visualization\n",
        "y_true = []\n",
        "y_pred = []\n",
        "\n",
        "test_loss, test_acc = evaluate(model, test_iterator, criterion)\n",
        "\n",
        "\n",
        "print(\"***** Final Evaluation Score *****\")\n",
        "print(f'Test Loss: {test_loss:.3f} | Test Acc: {test_acc*100:.2f}%')"
      ]
    },
    {
      "cell_type": "markdown",
      "source": [
        "## Visualization\n",
        "\n",
        "\n",
        "\n"
      ],
      "metadata": {
        "id": "PzZdbiprjlb2"
      },
      "id": "PzZdbiprjlb2"
    },
    {
      "cell_type": "code",
      "source": [
        "#Auxilary Function - List to Tensor\n",
        "\n",
        "y_true_concat = torch.empty(0, device=device)\n",
        "for tens in range(len(y_true)):\n",
        "  y_true_concat = torch.concat((y_true_concat, y_true[tens]),0)\n",
        "\n",
        "y_pred_concat = torch.empty(0, device=device)\n",
        "for tens in range(len(y_pred)):\n",
        "  y_pred_concat = torch.concat((y_pred_concat, y_pred[tens]),0)\n",
        "\n",
        "y_pred_argmax = y_pred_concat.argmax(1)"
      ],
      "metadata": {
        "id": "Ho6_4p7jiPaM"
      },
      "id": "Ho6_4p7jiPaM",
      "execution_count": 107,
      "outputs": []
    },
    {
      "cell_type": "code",
      "source": [
        "#Tensors to numpy() array and on CPU for Visualization\n",
        "if y_true_concat.dtype == torch.float32:\n",
        "  y_true_concat = y_true_concat.cpu().numpy()\n",
        "  y_pred_argmax = y_pred_argmax.cpu().numpy()"
      ],
      "metadata": {
        "id": "pM1LyR66oPpd"
      },
      "id": "pM1LyR66oPpd",
      "execution_count": 108,
      "outputs": []
    },
    {
      "cell_type": "markdown",
      "source": [
        "### Classification Report"
      ],
      "metadata": {
        "id": "8ovlyZ09HxMi"
      },
      "id": "8ovlyZ09HxMi"
    },
    {
      "cell_type": "code",
      "source": [
        "\n",
        "from sklearn.metrics import accuracy_score, classification_report, confusion_matrix\n",
        "import seaborn as sns\n",
        "import matplotlib.pyplot as plt\n",
        "\n",
        "label_names = ['Negative', 'Somewhat Negative', 'Neutral', 'Somewhat Positive', 'Positive']\n",
        "\n",
        "#Classification Report\n",
        "print('Classification Report:')\n",
        "print(classification_report(y_true_concat, y_pred_argmax, digits=4, target_names = label_names))\n"
      ],
      "metadata": {
        "id": "IJCkuT8pl80v",
        "colab": {
          "base_uri": "https://localhost:8080/"
        },
        "outputId": "11a73b2b-8a10-4045-8212-ecc731e4a0e0"
      },
      "id": "IJCkuT8pl80v",
      "execution_count": 109,
      "outputs": [
        {
          "output_type": "stream",
          "name": "stdout",
          "text": [
            "Classification Report:\n",
            "                   precision    recall  f1-score   support\n",
            "\n",
            "         Negative     0.5469    0.2243    0.3181      2680\n",
            "Somewhat Negative     0.5406    0.5495    0.5450     11521\n",
            "          Neutral     0.7363    0.8343    0.7822     33842\n",
            "Somewhat Positive     0.5609    0.5305    0.5453     12908\n",
            "         Positive     0.6675    0.2996    0.4136      4376\n",
            "\n",
            "         accuracy                         0.6632     65327\n",
            "        macro avg     0.6105    0.4876    0.5208     65327\n",
            "     weighted avg     0.6548    0.6632    0.6499     65327\n",
            "\n"
          ]
        }
      ]
    },
    {
      "cell_type": "markdown",
      "source": [
        "### Confusion Matrix\n",
        "\n",
        "Visualizing true and predicted labels."
      ],
      "metadata": {
        "id": "Da7SHSioH3Xm"
      },
      "id": "Da7SHSioH3Xm"
    },
    {
      "cell_type": "code",
      "source": [
        "#Confusion Matrix\n",
        "cm = confusion_matrix(y_true_concat, y_pred_argmax, normalize=\"true\" ) \n",
        "#ax = plt.subplot()\n",
        "fig, ax = plt.subplots(figsize=(11,8))\n",
        "sns.heatmap(cm, annot=True, ax = ax, cmap='Blues')\n",
        "ax.set_title('Confusion Matrix', fontsize = 15)\n",
        "ax.set_xlabel('Predicted Labels', fontsize = 15)\n",
        "ax.set_ylabel('True Labels', fontsize = 15)\n",
        "ax.xaxis.set_ticklabels(label_names)\n",
        "ax.yaxis.set_ticklabels(label_names)\n",
        "plt.show()"
      ],
      "metadata": {
        "id": "ILL-1KIaHpOx",
        "colab": {
          "base_uri": "https://localhost:8080/",
          "height": 520
        },
        "outputId": "f6c7f770-ca0a-4ac0-f93a-8632b59fa168"
      },
      "id": "ILL-1KIaHpOx",
      "execution_count": 124,
      "outputs": [
        {
          "output_type": "display_data",
          "data": {
            "image/png": "[encoded data removed]",
            "text/plain": [
              "<Figure size 792x576 with 2 Axes>"
            ]
          },
          "metadata": {
            "needs_background": "light"
          }
        }
      ]
    },
    {
      "cell_type": "markdown",
      "source": [
        "### Label Distribution bar chart\n",
        "\n",
        "Visualize label distribution in test dataset."
      ],
      "metadata": {
        "id": "TBbegFMYIS2a"
      },
      "id": "TBbegFMYIS2a"
    },
    {
      "cell_type": "code",
      "source": [
        "\n",
        "#Label Distribution\n",
        "unique, counts = np.unique(y_true_concat, return_counts=True)\n",
        "fig = plt.figure(figsize=(9, 5))\n",
        "ax = sns.barplot(unique,counts, palette='RdYlGn')\n",
        "plt.title(\"Ratings Distribution\",fontsize = 20)\n",
        "plt.ylabel('Number of Phrases', fontsize = 12)\n",
        "plt.xlabel('Rating', fontsize = 12)\n",
        "ax.xaxis.set_ticklabels(label_names)\n",
        "plt.show()"
      ],
      "metadata": {
        "id": "F4zH3cOBuNgd",
        "colab": {
          "base_uri": "https://localhost:8080/",
          "height": 413
        },
        "outputId": "c93bf6c5-dd20-48b4-ff71-56fde3f53033"
      },
      "id": "F4zH3cOBuNgd",
      "execution_count": 116,
      "outputs": [
        {
          "output_type": "stream",
          "name": "stderr",
          "text": [
            "/usr/local/lib/python3.7/dist-packages/seaborn/_decorators.py:43: FutureWarning: Pass the following variables as keyword args: x, y. From version 0.12, the only valid positional argument will be `data`, and passing other arguments without an explicit keyword will result in an error or misinterpretation.\n",
            "  FutureWarning\n"
          ]
        },
        {
          "output_type": "display_data",
          "data": {
            "image/png": "[encoded data removed]",
            "text/plain": [
              "<Figure size 648x360 with 1 Axes>"
            ]
          },
          "metadata": {
            "needs_background": "light"
          }
        }
      ]
    }
  ],
  "metadata": {
    "kernelspec": {
      "display_name": "Python 3 (ipykernel)",
      "language": "python",
      "name": "python3"
    },
    "language_info": {
      "codemirror_mode": {
        "name": "ipython",
        "version": 3
      },
      "file_extension": ".py",
      "mimetype": "text/x-python",
      "name": "python",
      "nbconvert_exporter": "python",
      "pygments_lexer": "ipython3",
      "version": "3.7.9"
    },
    "colab": {
      "name": "Evaluation_GloVe_BiLSTM_Final_V02.ipynb",
      "provenance": [],
      "collapsed_sections": [],
      "toc_visible": true
    },
    "accelerator": "GPU"
  },
  "nbformat": 4,
  "nbformat_minor": 5
}
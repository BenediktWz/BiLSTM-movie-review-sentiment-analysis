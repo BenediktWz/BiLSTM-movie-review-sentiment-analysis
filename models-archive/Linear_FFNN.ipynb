{
  "cells": [
    {
      "cell_type": "code",
      "execution_count": 1,
      "metadata": {
        "id": "0A8xKTWZcLER"
      },
      "outputs": [],
      "source": [
        "import torch\n",
        "from torchtext.legacy import data\n",
        "import torch.nn.functional as F\n",
        "\n",
        "SEED = 1234\n",
        "\n",
        "torch.manual_seed(SEED)\n",
        "torch.backends.cudnn.deterministic = True\n"
      ]
    },
    {
      "cell_type": "markdown",
      "metadata": {
        "id": "wW454oe9cLEf"
      },
      "source": [
        "# Load & Split"
      ]
    },
    {
      "cell_type": "code",
      "execution_count": 2,
      "metadata": {
        "colab": {
          "base_uri": "https://localhost:8080/"
        },
        "id": "XJWkODvTcLEr",
        "outputId": "23546d71-5312-4b45-bfde-cd6b98bce252"
      },
      "outputs": [
        {
          "output_type": "stream",
          "name": "stdout",
          "text": [
            "{'Phrase': ['A', 'series', 'of', 'escapades', 'demonstrating', 'the', 'adage', 'that', 'what', 'is', 'good', 'for', 'the', 'goose', 'is', 'also', 'good', 'for', 'the', 'gander', ',', 'some', 'of', 'which', 'occasionally', 'amuses', 'but', 'none', 'of', 'which', 'amounts', 'to', 'much', 'of', 'a', 'story', '.'], 'Sentiment': '1'}\n",
            "{'Phrase': ['An', 'intermittently', 'pleasing', 'but', 'mostly', 'routine', 'effort', '.']}\n"
          ]
        }
      ],
      "source": [
        "# Create Field objects\n",
        "PHRASE = data.Field(tokenize = 'spacy', #The function used to tokenize strings using this field into sequential examples.\n",
        "                  tokenizer_language = 'en_core_web_sm', #The language of the tokenizer to be constructed (en=englisch)\n",
        "                  include_lengths = True) #Whether to return a tuple of minibatch and lengths or just a the minibatch\n",
        "SENTIMENT = data.LabelField()\n",
        "\n",
        "# Create tuples representing the columns\n",
        "fields = [\n",
        "  (None, None), # ignore PhraseId column\n",
        "  (None, None), # ignore SentenceId column\n",
        "  ('Phrase', PHRASE),\n",
        "  ('Sentiment', SENTIMENT)\n",
        "]\n",
        "\n",
        "# Load the dataset in tsv format\n",
        "train_ds, test_ds = data.TabularDataset.splits(\n",
        "   path = './data',\n",
        "   train = 'train.tsv',\n",
        "   test = 'test.tsv',\n",
        "   format = 'tsv',\n",
        "   fields = fields,\n",
        "   skip_header = True\n",
        ")\n",
        "\n",
        "# Check an example\n",
        "print(vars(train_ds[0]))\n",
        "print(vars(test_ds[0]))\n"
      ]
    },
    {
      "cell_type": "code",
      "execution_count": 3,
      "metadata": {
        "colab": {
          "base_uri": "https://localhost:8080/"
        },
        "id": "QitQjQiYcLE5",
        "outputId": "bc7ffe50-9a9a-4d41-a57f-f02bddb3159d"
      },
      "outputs": [
        {
          "output_type": "stream",
          "name": "stdout",
          "text": [
            "Number of training examples: 109241\n",
            "Number of validation examples: 46819\n",
            "Number of testing examples: 66292\n"
          ]
        }
      ],
      "source": [
        "import random\n",
        "\n",
        "# Create validation dataset; splits 70/30 by default\n",
        "train_ds, valid_ds = train_ds.split(split_ratio=0.7, stratified=True, strata_field='Sentiment', random_state = random.seed(SEED))\n",
        "\n",
        "\n",
        "print(f'Number of training examples: {len(train_ds)}')\n",
        "print(f'Number of validation examples: {len(valid_ds)}')\n",
        "print(f'Number of testing examples: {len(test_ds)}')\n",
        "\n"
      ]
    },
    {
      "cell_type": "markdown",
      "metadata": {
        "id": "VzkDEhZicLFB"
      },
      "source": [
        "# Preprocessing & Vectorization\n"
      ]
    },
    {
      "cell_type": "code",
      "execution_count": 4,
      "metadata": {
        "colab": {
          "base_uri": "https://localhost:8080/"
        },
        "id": "4Mqm7TDlcLFG",
        "outputId": "63f7eb2d-f334-4d23-92f0-cc52beaea363"
      },
      "outputs": [
        {
          "output_type": "stream",
          "name": "stderr",
          "text": [
            ".vector_cache/glove.6B.zip: 862MB [02:43, 5.28MB/s]                           \n",
            "100%|█████████▉| 399999/400000 [00:20<00:00, 19129.81it/s]\n"
          ]
        },
        {
          "output_type": "stream",
          "name": "stdout",
          "text": [
            "Unique tokens in PHRASE vocabulary: 17071\n",
            "Unique tokens in SENTIMENT vocabulary: 5\n"
          ]
        }
      ],
      "source": [
        "# Build vocabulary (using Glove pre-trained word embeddings, dimensi0nality = 100)\n",
        "#!! dimensionality has to match EMBEDDING_SIZE\n",
        "PHRASE.build_vocab(train_ds,\n",
        "                    vectors = \"glove.6B.100d\", \n",
        "                    unk_init = torch.Tensor.normal_)\n",
        "SENTIMENT.build_vocab(train_ds)\n",
        "\n",
        "print(f\"Unique tokens in PHRASE vocabulary: {len(PHRASE.vocab)}\")\n",
        "print(f\"Unique tokens in SENTIMENT vocabulary: {len(SENTIMENT.vocab)}\")"
      ]
    },
    {
      "cell_type": "markdown",
      "metadata": {
        "id": "zGzeP0c3cLFX"
      },
      "source": [
        "# Model 1 (FFNN)"
      ]
    },
    {
      "cell_type": "code",
      "execution_count": 20,
      "metadata": {
        "id": "PxY6X_b3cLFc"
      },
      "outputs": [],
      "source": [
        "import torch.nn as nn\n",
        "\n",
        "class FFNNModel(nn.Module):\n",
        "    def __init__(   self, vocab_size, embedding_dim, hidden_layer_size, output_dim, \n",
        "                    dropout, pad_idx):\n",
        "        super(FFNNModel, self).__init__()\n",
        "        \n",
        "        self.embedding = nn.Embedding(vocab_size, embedding_dim, padding_idx = pad_idx)\n",
        "        self.dropout = nn.Dropout(dropout)\n",
        "\n",
        "        layers = [  nn.Dropout(),\n",
        "                    nn.Linear(embedding_dim, hidden_layer_size, bias=False),\n",
        "                    nn.ReLU(),\n",
        "                    nn.Dropout(),\n",
        "                    nn.Linear(hidden_layer_size, hidden_layer_size, bias=False),\n",
        "                    nn.ReLU(),\n",
        "                    nn.Dropout(), \n",
        "                    nn.Linear(hidden_layer_size, output_dim, bias=False),\n",
        "                    nn.Softmax()]\n",
        "        \n",
        "        self.seq = nn.Sequential(*layers)\n",
        "        \n",
        "    def forward(self, text, text_lengths):\n",
        "        embedded = self.dropout(self.embedding(text))\n",
        "        #[sen_lengths, batch_size, embedding_size]\n",
        "        \n",
        "        #embedded = [sent len, batch size, emb dim]\n",
        "        \n",
        "        embedded = embedded.permute(1, 0, 2)\n",
        "        \n",
        "        #embedded = [batch size, sent len, emb dim]\n",
        "        \n",
        "        pooled = F.avg_pool2d(embedded, (embedded.shape[1], 1)).squeeze(1)\n",
        "\n",
        "        #pooled = [batch size, emb dim]\n",
        "        \n",
        "        return self.seq(pooled)"
      ]
    },
    {
      "cell_type": "markdown",
      "metadata": {
        "id": "Vmgk6FrzcLFz"
      },
      "source": [
        "### Accuracy Methode"
      ]
    },
    {
      "cell_type": "code",
      "execution_count": 7,
      "metadata": {
        "id": "SUKsQIj5cLF1"
      },
      "outputs": [],
      "source": [
        "def categorical_accuracy(preds, y):\n",
        "    \"\"\"\n",
        "    Returns accuracy per batch, i.e. if you get 8/10 right, this returns 0.8, NOT 8\n",
        "    \"\"\"\n",
        "    top_pred = preds.argmax(1, keepdim = True)\n",
        "    correct = top_pred.eq(y.view_as(top_pred)).sum()\n",
        "    acc = correct.float() / y.shape[0]\n",
        "    return acc"
      ]
    },
    {
      "cell_type": "markdown",
      "metadata": {
        "id": "DyLhEp7bcLF4"
      },
      "source": [
        "### Train Methode"
      ]
    },
    {
      "cell_type": "code",
      "execution_count": 5,
      "metadata": {
        "id": "26560xc2cLF6"
      },
      "outputs": [],
      "source": [
        "def train(model, iterator, optimizer, lossfunc):\n",
        "    \n",
        "    epoch_loss = 0\n",
        "    epoch_acc = 0\n",
        "    \n",
        "    model.train()\n",
        "    \n",
        "    for batch in iterator:\n",
        "        \n",
        "        optimizer.zero_grad()\n",
        "        \n",
        "        text, text_lengths = batch.Phrase\n",
        "        \n",
        "        predictions = model(text, text_lengths) #forward-Methode aufrufen\n",
        "        \n",
        "        loss = lossfunc(predictions, batch.Sentiment)\n",
        "        \n",
        "        acc = categorical_accuracy(predictions, batch.Sentiment)\n",
        "        \n",
        "        loss.backward()\n",
        "        \n",
        "        optimizer.step()\n",
        "        \n",
        "        epoch_loss += loss.item()\n",
        "        epoch_acc += acc.item()\n",
        "        \n",
        "    return epoch_loss / len(iterator), epoch_acc / len(iterator)"
      ]
    },
    {
      "cell_type": "markdown",
      "metadata": {
        "id": "TmHE3A5YcLGB"
      },
      "source": [
        "### Evaluate Methode"
      ]
    },
    {
      "cell_type": "code",
      "execution_count": 8,
      "metadata": {
        "id": "QTl7oRxPcLGE"
      },
      "outputs": [],
      "source": [
        "def evaluate(model, iterator, criterion):\n",
        "    \n",
        "    epoch_loss = 0\n",
        "    epoch_acc = 0\n",
        "    \n",
        "    model.eval()\n",
        "    \n",
        "    with torch.no_grad():\n",
        "    \n",
        "        for batch in iterator:\n",
        "\n",
        "            text, text_lengths = batch.Phrase\n",
        "            \n",
        "            predictions = model(text, text_lengths)\n",
        "            \n",
        "            loss = criterion(predictions, batch.Sentiment)\n",
        "            \n",
        "            acc = categorical_accuracy(predictions, batch.Sentiment)\n",
        "\n",
        "            epoch_loss += loss.item()\n",
        "            epoch_acc += acc.item()\n",
        "        \n",
        "    return epoch_loss / len(iterator), epoch_acc / len(iterator)"
      ]
    },
    {
      "cell_type": "markdown",
      "metadata": {
        "id": "rTPFtQ23cLGH"
      },
      "source": [
        "# Training and Evaluation"
      ]
    },
    {
      "cell_type": "markdown",
      "metadata": {
        "id": "SCJU8InicLGI"
      },
      "source": [
        "### Iterators"
      ]
    },
    {
      "cell_type": "code",
      "execution_count": 12,
      "metadata": {
        "id": "5oxVZvpscLGK"
      },
      "outputs": [],
      "source": [
        "BATCH_SIZE = 64\n",
        "\n",
        "# Only necessary for GPU\n",
        "device = torch.device('cuda' if torch.cuda.is_available() else 'cpu')\n",
        "\n",
        "# Creating the iterators\n",
        "train_iterator, valid_iterator, test_iterator = data.BucketIterator.splits(\n",
        "    (train_ds, valid_ds, test_ds), \n",
        "    batch_size = BATCH_SIZE,\n",
        "    sort = False,\n",
        "    sort_key = lambda x: len(x.Phrase),\n",
        "    sort_within_batch = True,\n",
        "    device = device)"
      ]
    },
    {
      "cell_type": "markdown",
      "metadata": {
        "id": "Aim7m8SScLGP"
      },
      "source": [
        "### Parameters"
      ]
    },
    {
      "cell_type": "code",
      "execution_count": 21,
      "metadata": {
        "id": "4sVHPvLocLGQ"
      },
      "outputs": [],
      "source": [
        "INPUT_DIM = len(PHRASE.vocab)\n",
        "EMBEDDING_DIM = 100\n",
        "HIDDEN_DIM = 256\n",
        "OUTPUT_DIM = len(SENTIMENT.vocab)\n",
        "DROPOUT = 0.5\n",
        "PAD_IDX = PHRASE.vocab.stoi[PHRASE.pad_token]\n",
        "MODEL = 2\n",
        "\n",
        "\n",
        "model = FFNNModel(  INPUT_DIM,\n",
        "                    EMBEDDING_DIM,\n",
        "                    HIDDEN_DIM,\n",
        "                    OUTPUT_DIM,\n",
        "                    DROPOUT,\n",
        "                    PAD_IDX)\n",
        "\n"
      ]
    },
    {
      "cell_type": "code",
      "execution_count": 22,
      "metadata": {
        "colab": {
          "base_uri": "https://localhost:8080/"
        },
        "id": "cNoIEao8cLGT",
        "outputId": "70aca706-98d6-4d23-e955-a36cfb424325"
      },
      "outputs": [
        {
          "output_type": "stream",
          "name": "stdout",
          "text": [
            "The model has 1,799,516 trainable parameters\n"
          ]
        }
      ],
      "source": [
        "def count_parameters(model):\n",
        "    return sum(p.numel() for p in model.parameters() if p.requires_grad)\n",
        "\n",
        "print(f'The model has {count_parameters(model):,} trainable parameters')"
      ]
    },
    {
      "cell_type": "markdown",
      "metadata": {
        "id": "7o4TF4JRcLGa"
      },
      "source": [
        "### Embedding Layer"
      ]
    },
    {
      "cell_type": "code",
      "execution_count": 26,
      "metadata": {
        "colab": {
          "base_uri": "https://localhost:8080/"
        },
        "id": "-TduzLA7cLGc",
        "outputId": "15b633a7-9ccf-4cfe-b143-d35af175c6c3"
      },
      "outputs": [
        {
          "output_type": "execute_result",
          "data": {
            "text/plain": [
              "tensor([[-0.1117, -0.4966,  0.1631,  ...,  1.2647, -0.2753, -0.1325],\n",
              "        [-0.8555, -0.7208,  1.3755,  ...,  0.0825, -1.1314,  0.3997],\n",
              "        [-0.0382, -0.2449,  0.7281,  ..., -0.1459,  0.8278,  0.2706],\n",
              "        ...,\n",
              "        [-0.1493,  0.4058,  0.4645,  ...,  0.1381, -0.7034,  0.8072],\n",
              "        [-0.3552,  0.4732,  0.8660,  ...,  0.2483, -0.0049,  0.8731],\n",
              "        [-0.1431,  0.0487,  0.0565,  ..., -0.0402, -0.3744,  0.5650]])"
            ]
          },
          "metadata": {},
          "execution_count": 26
        }
      ],
      "source": [
        "# replace the initial weights of the embedding layer with the pre-trained embeddings\n",
        "model.embedding.weight.data.copy_(pretrained_embeddings)\n"
      ]
    },
    {
      "cell_type": "code",
      "execution_count": 25,
      "metadata": {
        "colab": {
          "base_uri": "https://localhost:8080/"
        },
        "id": "6zApE-pTcLGe",
        "outputId": "e9327604-0852-4ff3-d8e8-b3b4c3ef6e11"
      },
      "outputs": [
        {
          "output_type": "stream",
          "name": "stdout",
          "text": [
            "tensor([[ 0.0000,  0.0000,  0.0000,  ...,  0.0000,  0.0000,  0.0000],\n",
            "        [ 0.0000,  0.0000,  0.0000,  ...,  0.0000,  0.0000,  0.0000],\n",
            "        [-0.0382, -0.2449,  0.7281,  ..., -0.1459,  0.8278,  0.2706],\n",
            "        ...,\n",
            "        [-0.1493,  0.4058,  0.4645,  ...,  0.1381, -0.7034,  0.8072],\n",
            "        [-0.3552,  0.4732,  0.8660,  ...,  0.2483, -0.0049,  0.8731],\n",
            "        [-0.1431,  0.0487,  0.0565,  ..., -0.0402, -0.3744,  0.5650]])\n"
          ]
        }
      ],
      "source": [
        "UNK_IDX = PHRASE.vocab.stoi[PHRASE.unk_token]\n",
        "\n",
        "#  initialize <unk> and <pad> tokens to all zeros\n",
        "model.embedding.weight.data[UNK_IDX] = torch.zeros(EMBEDDING_DIM)\n",
        "model.embedding.weight.data[PAD_IDX] = torch.zeros(EMBEDDING_DIM)\n",
        "\n",
        "print(model.embedding.weight.data)"
      ]
    },
    {
      "cell_type": "markdown",
      "metadata": {
        "id": "weH48ToTcLGh"
      },
      "source": [
        "### Optimizer"
      ]
    },
    {
      "cell_type": "code",
      "execution_count": 27,
      "metadata": {
        "id": "pbbSRn5IcLG6"
      },
      "outputs": [],
      "source": [
        "import torch.optim as optim\n",
        "\n",
        "optimizer = optim.Adam(model.parameters())"
      ]
    },
    {
      "cell_type": "markdown",
      "metadata": {
        "id": "-aeDxfckcLG8"
      },
      "source": [
        "### Loss-Function"
      ]
    },
    {
      "cell_type": "code",
      "execution_count": 28,
      "metadata": {
        "id": "j1Elbn5hcLHA"
      },
      "outputs": [],
      "source": [
        "lossfunc = nn.CrossEntropyLoss()\n",
        "\n",
        "model = model.to(device)\n",
        "lossfunc = lossfunc.to(device)"
      ]
    },
    {
      "cell_type": "markdown",
      "metadata": {
        "id": "vmDkW2kHcLHC"
      },
      "source": [
        "### Durchführung"
      ]
    },
    {
      "cell_type": "code",
      "execution_count": 29,
      "metadata": {
        "id": "EUQ9QehPcLHE"
      },
      "outputs": [],
      "source": [
        "import time #TIME\n",
        "\n",
        "def epoch_time(start_time, end_time):\n",
        "    elapsed_time = end_time - start_time\n",
        "    elapsed_mins = int(elapsed_time / 60)\n",
        "    elapsed_secs = int(elapsed_time - (elapsed_mins * 60))\n",
        "    return elapsed_mins, elapsed_secs"
      ]
    },
    {
      "cell_type": "code",
      "execution_count": 30,
      "metadata": {
        "id": "7WQxciEpcLHN",
        "colab": {
          "base_uri": "https://localhost:8080/"
        },
        "outputId": "a1186bb5-175e-4af0-b1b7-d266e14f0456"
      },
      "outputs": [
        {
          "output_type": "stream",
          "name": "stderr",
          "text": [
            "/usr/local/lib/python3.7/dist-packages/torch/nn/modules/container.py:141: UserWarning: Implicit dimension choice for softmax has been deprecated. Change the call to include dim=X as an argument.\n",
            "  input = module(input)\n"
          ]
        },
        {
          "output_type": "stream",
          "name": "stdout",
          "text": [
            "Epoch: 01 | Epoch Time: 0m 8s\n",
            "\tTrain Loss: 1.374 | Train Acc: 51.99%\n",
            "\t Val. Loss: 1.365 |  Val. Acc: 53.81%\n",
            "Epoch: 02 | Epoch Time: 0m 7s\n",
            "\tTrain Loss: 1.354 | Train Acc: 53.75%\n",
            "\t Val. Loss: 1.343 |  Val. Acc: 56.49%\n",
            "Epoch: 03 | Epoch Time: 0m 7s\n",
            "\tTrain Loss: 1.342 | Train Acc: 55.10%\n",
            "\t Val. Loss: 1.345 |  Val. Acc: 55.53%\n",
            "Epoch: 04 | Epoch Time: 0m 7s\n",
            "\tTrain Loss: 1.330 | Train Acc: 56.42%\n",
            "\t Val. Loss: 1.319 |  Val. Acc: 58.15%\n",
            "Epoch: 05 | Epoch Time: 0m 7s\n",
            "\tTrain Loss: 1.324 | Train Acc: 57.04%\n",
            "\t Val. Loss: 1.324 |  Val. Acc: 57.56%\n",
            "Epoch: 06 | Epoch Time: 0m 7s\n",
            "\tTrain Loss: 1.316 | Train Acc: 58.01%\n",
            "\t Val. Loss: 1.327 |  Val. Acc: 56.99%\n",
            "Epoch: 07 | Epoch Time: 0m 7s\n",
            "\tTrain Loss: 1.310 | Train Acc: 58.66%\n",
            "\t Val. Loss: 1.318 |  Val. Acc: 58.10%\n",
            "Epoch: 08 | Epoch Time: 0m 7s\n",
            "\tTrain Loss: 1.305 | Train Acc: 59.34%\n",
            "\t Val. Loss: 1.321 |  Val. Acc: 57.59%\n",
            "Epoch: 09 | Epoch Time: 0m 7s\n",
            "\tTrain Loss: 1.300 | Train Acc: 59.78%\n",
            "\t Val. Loss: 1.308 |  Val. Acc: 59.04%\n",
            "Epoch: 10 | Epoch Time: 0m 7s\n",
            "\tTrain Loss: 1.298 | Train Acc: 60.06%\n",
            "\t Val. Loss: 1.315 |  Val. Acc: 58.33%\n"
          ]
        }
      ],
      "source": [
        "N_EPOCHS = 10\n",
        "\n",
        "best_valid_loss = float('inf')\n",
        "\n",
        "for epoch in range(N_EPOCHS):\n",
        "\n",
        "    start_time = time.time()\n",
        "    \n",
        "    train_loss, train_acc = train(model, train_iterator, optimizer, lossfunc)\n",
        "    valid_loss, valid_acc = evaluate(model, valid_iterator, lossfunc)\n",
        "    #valid_loss, valid_acc = evaluate(model, test_iterator, lossfunc)\n",
        "    \n",
        "    end_time = time.time()\n",
        "\n",
        "    epoch_mins, epoch_secs = epoch_time(start_time, end_time)\n",
        "    \n",
        "    if valid_loss < best_valid_loss:\n",
        "        best_valid_loss = valid_loss\n",
        "        torch.save(model.state_dict(), 'model_LSTM.pt')\n",
        "    \n",
        "    print(f'Epoch: {epoch+1:02} | Epoch Time: {epoch_mins}m {epoch_secs}s')\n",
        "    print(f'\\tTrain Loss: {train_loss:.3f} | Train Acc: {train_acc*100:.2f}%')\n",
        "    print(f'\\t Val. Loss: {valid_loss:.3f} |  Val. Acc: {valid_acc*100:.2f}%')"
      ]
    },
    {
      "cell_type": "code",
      "source": [
        ""
      ],
      "metadata": {
        "id": "fzh4PMHUzGo_"
      },
      "execution_count": null,
      "outputs": []
    }
  ],
  "metadata": {
    "accelerator": "GPU",
    "colab": {
      "name": "Linear FFNN.ipynb",
      "provenance": [],
      "collapsed_sections": []
    },
    "interpreter": {
      "hash": "01c9b0c4b928a658fe1aeb1f7226878871eed0ba87395a1ede0996f60a42891d"
    },
    "kernelspec": {
      "display_name": "Python 3.7.6 64-bit ('base': conda)",
      "language": "python",
      "name": "python3"
    },
    "language_info": {
      "codemirror_mode": {
        "name": "ipython",
        "version": 3
      },
      "file_extension": ".py",
      "mimetype": "text/x-python",
      "name": "python",
      "nbconvert_exporter": "python",
      "pygments_lexer": "ipython3",
      "version": "3.7.11"
    }
  },
  "nbformat": 4,
  "nbformat_minor": 0
}
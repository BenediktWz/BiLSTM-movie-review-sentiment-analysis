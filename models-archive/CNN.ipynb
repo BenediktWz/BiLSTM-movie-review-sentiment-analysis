{
 "cells": [
  {
   "cell_type": "code",
   "execution_count": 1,
   "id": "16fa6d20-62cd-401a-94cf-693442f5b1d3",
   "metadata": {},
   "outputs": [],
   "source": [
    "import torch\n",
    "from torchtext.legacy import data\n",
    "\n",
    "SEED = 1234\n",
    "\n",
    "torch.manual_seed(SEED)\n",
    "torch.backends.cudnn.enabled = False \n",
    "torch.backends.cudnn.benchmark = False\n",
    "torch.backends.cudnn.deterministic = True"
   ]
  },
  {
   "cell_type": "code",
   "execution_count": 2,
   "id": "ca391051-dbf0-477c-8447-071cac2be4b7",
   "metadata": {},
   "outputs": [],
   "source": [
    "# Create Field objects\n",
    "PHRASE = data.Field(tokenize = 'spacy',\n",
    "                  tokenizer_language = 'en_core_web_sm')\n",
    "SENTIMENT = data.LabelField()\n",
    "\n",
    "# Create tuples representing the columns\n",
    "fields = [\n",
    "  (None, None), # ignore PhraseId column\n",
    "  (None, None), # ignore SentenceId column\n",
    "  ('Phrase', PHRASE),\n",
    "  ('Sentiment', SENTIMENT)\n",
    "]\n",
    "\n",
    "# Load the dataset in tsv format\n",
    "train_ds, test_ds = data.TabularDataset.splits(\n",
    "   path = './data',\n",
    "   train = 'train.tsv',\n",
    "   test = 'test_mapped.tsv',\n",
    "   format = 'tsv',\n",
    "   fields = fields,\n",
    "   skip_header = True\n",
    ")"
   ]
  },
  {
   "cell_type": "code",
   "execution_count": 3,
   "id": "ebe71c98-a107-4f95-8920-0a915e7e754c",
   "metadata": {},
   "outputs": [
    {
     "name": "stdout",
     "output_type": "stream",
     "text": [
      "Number of training examples: 109241\n",
      "Number of validation examples: 46819\n",
      "Number of testing examples: 65327\n"
     ]
    }
   ],
   "source": [
    "import random\n",
    "\n",
    "# Create validation dataset; splits 70/30 by default\n",
    "train_ds, valid_ds = train_ds.split(split_ratio=0.7, stratified=True, strata_field='Sentiment', random_state = random.seed(SEED))\n",
    "\n",
    "print(f'Number of training examples: {len(train_ds)}')\n",
    "print(f'Number of validation examples: {len(valid_ds)}')\n",
    "print(f'Number of testing examples: {len(test_ds)}')"
   ]
  },
  {
   "cell_type": "code",
   "execution_count": 4,
   "id": "1c2ff495-bc60-435d-94a3-33db202c03a3",
   "metadata": {},
   "outputs": [
    {
     "name": "stdout",
     "output_type": "stream",
     "text": [
      "Unique tokens in PHRASE vocabulary: 17044\n",
      "Unique tokens in SENTIMENT vocabulary: 5\n"
     ]
    }
   ],
   "source": [
    "# Build vocabulary\n",
    "PHRASE.build_vocab(train_ds, \n",
    "                    vectors = \"glove.6B.100d\", \n",
    "                    unk_init = torch.Tensor.normal_)\n",
    "SENTIMENT.build_vocab(train_ds)\n",
    "\n",
    "print(f\"Unique tokens in PHRASE vocabulary: {len(PHRASE.vocab)}\")\n",
    "print(f\"Unique tokens in SENTIMENT vocabulary: {len(SENTIMENT.vocab)}\")"
   ]
  },
  {
   "cell_type": "code",
   "execution_count": 5,
   "id": "e0c82811-368f-4fab-b028-702b0c317ab4",
   "metadata": {},
   "outputs": [],
   "source": [
    "BATCH_SIZE = 64\n",
    "\n",
    "# Only necessary for GPU\n",
    "device = torch.device('cuda' if torch.cuda.is_available() else 'cpu')\n",
    "\n",
    "# Creating the iterators\n",
    "train_iterator, valid_iterator, test_iterator = data.BucketIterator.splits(\n",
    "    (train_ds, valid_ds, test_ds), \n",
    "    batch_size = BATCH_SIZE,\n",
    "    sort = False,\n",
    "    device = device)"
   ]
  },
  {
   "cell_type": "code",
   "execution_count": 6,
   "id": "48af2049-cb3f-407d-9ca0-9e84e6219edf",
   "metadata": {},
   "outputs": [],
   "source": [
    "# Build the model\n",
    "import torch.nn as nn\n",
    "import torch.nn.functional as F\n",
    "\n",
    "class CNN(nn.Module):\n",
    "    def __init__(self, vocab_size, embedding_dim, n_filters, filter_sizes, output_dim, \n",
    "                 dropout, pad_idx):\n",
    "        \n",
    "        super().__init__()\n",
    "        \n",
    "        self.embedding = nn.Embedding(vocab_size, embedding_dim)\n",
    "        \n",
    "        self.convs = nn.ModuleList([\n",
    "                                    nn.Conv2d(in_channels = 1, \n",
    "                                              out_channels = n_filters, \n",
    "                                              kernel_size = (fs, embedding_dim)) \n",
    "                                    for fs in filter_sizes\n",
    "                                    ])\n",
    "        \n",
    "        self.fc = nn.Linear(len(filter_sizes) * n_filters, output_dim)\n",
    "        \n",
    "        self.dropout = nn.Dropout(dropout)\n",
    "        \n",
    "    def forward(self, text):\n",
    "        \n",
    "        #text = [sent len, batch size]\n",
    "        \n",
    "        text = text.permute(1, 0)\n",
    "                \n",
    "        #text = [batch size, sent len]\n",
    "        \n",
    "        embedded = self.embedding(text)\n",
    "                \n",
    "        #embedded = [batch size, sent len, emb dim]\n",
    "        \n",
    "        embedded = embedded.unsqueeze(1)\n",
    "        \n",
    "        #embedded = [batch size, 1, sent len, emb dim]\n",
    "        \n",
    "        conved = [F.relu(conv(embedded)).squeeze(3) for conv in self.convs]\n",
    "            \n",
    "        #conv_n = [batch size, n_filters, sent len - filter_sizes[n]]\n",
    "        \n",
    "        pooled = [F.max_pool1d(conv, conv.shape[2]).squeeze(2) for conv in conved]\n",
    "        \n",
    "        #pooled_n = [batch size, n_filters]\n",
    "        \n",
    "        cat = self.dropout(torch.cat(pooled, dim = 1))\n",
    "\n",
    "        #cat = [batch size, n_filters * len(filter_sizes)]\n",
    "            \n",
    "        return self.fc(cat)"
   ]
  },
  {
   "cell_type": "code",
   "execution_count": 7,
   "id": "34e14d89-c04b-42f8-b551-4e1e80e0c9d5",
   "metadata": {},
   "outputs": [],
   "source": [
    "INPUT_DIM = len(PHRASE.vocab)\n",
    "EMBEDDING_DIM = 100\n",
    "N_FILTERS = 100\n",
    "FILTER_SIZES = [2,3,4]\n",
    "OUTPUT_DIM = len(SENTIMENT.vocab)\n",
    "DROPOUT = 0.5\n",
    "PAD_IDX = PHRASE.vocab.stoi[PHRASE.pad_token]\n",
    "\n",
    "model = CNN(INPUT_DIM, EMBEDDING_DIM, N_FILTERS, FILTER_SIZES, OUTPUT_DIM, DROPOUT, PAD_IDX)"
   ]
  },
  {
   "cell_type": "code",
   "execution_count": 8,
   "id": "2c473604-16d7-4416-ac99-d5782219be58",
   "metadata": {},
   "outputs": [
    {
     "name": "stdout",
     "output_type": "stream",
     "text": [
      "The model has 1,796,205 trainable parameters\n"
     ]
    }
   ],
   "source": [
    "def count_parameters(model):\n",
    "    return sum(p.numel() for p in model.parameters() if p.requires_grad)\n",
    "\n",
    "print(f'The model has {count_parameters(model):,} trainable parameters')"
   ]
  },
  {
   "cell_type": "code",
   "execution_count": 9,
   "id": "91b601ac",
   "metadata": {},
   "outputs": [
    {
     "data": {
      "text/plain": [
       "tensor([[-0.1117, -0.4966,  0.1631,  ...,  1.2647, -0.2753, -0.1325],\n",
       "        [-0.8555, -0.7208,  1.3755,  ...,  0.0825, -1.1314,  0.3997],\n",
       "        [-0.0382, -0.2449,  0.7281,  ..., -0.1459,  0.8278,  0.2706],\n",
       "        ...,\n",
       "        [ 0.2061,  0.1557,  0.5050,  ..., -0.9561,  0.3256,  0.9500],\n",
       "        [-0.3552,  0.4732,  0.8660,  ...,  0.2483, -0.0049,  0.8731],\n",
       "        [-0.1431,  0.0487,  0.0565,  ..., -0.0402, -0.3744,  0.5650]])"
      ]
     },
     "execution_count": 9,
     "metadata": {},
     "output_type": "execute_result"
    }
   ],
   "source": [
    "pretrained_embeddings = PHRASE.vocab.vectors\n",
    "\n",
    "model.embedding.weight.data.copy_(pretrained_embeddings)"
   ]
  },
  {
   "cell_type": "code",
   "execution_count": 10,
   "id": "c099f42e",
   "metadata": {},
   "outputs": [],
   "source": [
    "UNK_IDX = PHRASE.vocab.stoi[PHRASE.unk_token]\n",
    "\n",
    "model.embedding.weight.data[UNK_IDX] = torch.zeros(EMBEDDING_DIM)\n",
    "model.embedding.weight.data[PAD_IDX] = torch.zeros(EMBEDDING_DIM)"
   ]
  },
  {
   "cell_type": "code",
   "execution_count": 11,
   "id": "a08d90c8-8896-4940-9521-c54557f5f4dd",
   "metadata": {},
   "outputs": [],
   "source": [
    "# Train the model\n",
    "import torch.optim as optim\n",
    "\n",
    "optimizer = optim.Adam(model.parameters())\n",
    "\n",
    "criterion = nn.CrossEntropyLoss()\n",
    "\n",
    "model = model.to(device)\n",
    "criterion = criterion.to(device)"
   ]
  },
  {
   "cell_type": "code",
   "execution_count": 12,
   "id": "d715efdf-b9e3-449f-bc4c-e50680879928",
   "metadata": {},
   "outputs": [],
   "source": [
    "def categorical_accuracy(preds, y):\n",
    "    \"\"\"\n",
    "    Returns accuracy per batch, i.e. if you get 8/10 right, this returns 0.8, NOT 8\n",
    "    \"\"\"\n",
    "    top_pred = preds.argmax(1, keepdim = True)\n",
    "    correct = top_pred.eq(y.view_as(top_pred)).sum()\n",
    "    acc = correct.float() / y.shape[0]\n",
    "    return acc"
   ]
  },
  {
   "cell_type": "code",
   "execution_count": 13,
   "id": "6201f66c-25dd-4175-80fb-36246f0025a6",
   "metadata": {},
   "outputs": [],
   "source": [
    "def train(model, iterator, optimizer, criterion):\n",
    "    \n",
    "    epoch_loss = 0\n",
    "    epoch_acc = 0\n",
    "    \n",
    "    model.train()\n",
    "    \n",
    "    for batch in iterator:\n",
    "        \n",
    "        optimizer.zero_grad()\n",
    "        \n",
    "        predictions = model(batch.Phrase)\n",
    "        \n",
    "        loss = criterion(predictions, batch.Sentiment)\n",
    "        \n",
    "        acc = categorical_accuracy(predictions, batch.Sentiment)\n",
    "        \n",
    "        loss.backward()\n",
    "        \n",
    "        optimizer.step()\n",
    "        \n",
    "        epoch_loss += loss.item()\n",
    "        epoch_acc += acc.item()\n",
    "        \n",
    "    return epoch_loss / len(iterator), epoch_acc / len(iterator)"
   ]
  },
  {
   "cell_type": "code",
   "execution_count": 14,
   "id": "f1fb5156-f500-44b4-8eb1-2f351f83bbb9",
   "metadata": {},
   "outputs": [],
   "source": [
    "def evaluate(model, iterator, criterion):\n",
    "    \n",
    "    epoch_loss = 0\n",
    "    epoch_acc = 0\n",
    "    \n",
    "    model.eval()\n",
    "    \n",
    "    with torch.no_grad():\n",
    "    \n",
    "        for batch in iterator:\n",
    "\n",
    "            predictions = model(batch.Phrase)\n",
    "            \n",
    "            loss = criterion(predictions, batch.Sentiment)\n",
    "            \n",
    "            acc = categorical_accuracy(predictions, batch.Sentiment)\n",
    "\n",
    "            epoch_loss += loss.item()\n",
    "            epoch_acc += acc.item()\n",
    "        \n",
    "    return epoch_loss / len(iterator), epoch_acc / len(iterator)"
   ]
  },
  {
   "cell_type": "code",
   "execution_count": 15,
   "id": "bbeec249-78ff-498e-aad4-5b9c977db0e9",
   "metadata": {},
   "outputs": [],
   "source": [
    "import time\n",
    "\n",
    "def epoch_time(start_time, end_time):\n",
    "    elapsed_time = end_time - start_time\n",
    "    elapsed_mins = int(elapsed_time / 60)\n",
    "    elapsed_secs = int(elapsed_time - (elapsed_mins * 60))\n",
    "    return elapsed_mins, elapsed_secs"
   ]
  },
  {
   "cell_type": "code",
   "execution_count": 16,
   "id": "b4597996-b73c-4f9e-9072-f008ac002fe0",
   "metadata": {},
   "outputs": [
    {
     "name": "stdout",
     "output_type": "stream",
     "text": [
      "Epoch: 01 | Epoch Time: 2m 48s\n",
      "\tTrain Loss: 1.012 | Train Acc: 59.02%\n",
      "\t Val. Loss: 0.890 |  Val. Acc: 63.89%\n",
      "Epoch: 02 | Epoch Time: 4m 52s\n",
      "\tTrain Loss: 0.861 | Train Acc: 64.73%\n",
      "\t Val. Loss: 0.854 |  Val. Acc: 65.30%\n",
      "Epoch: 03 | Epoch Time: 4m 8s\n",
      "\tTrain Loss: 0.799 | Train Acc: 67.40%\n",
      "\t Val. Loss: 0.849 |  Val. Acc: 65.41%\n",
      "Epoch: 04 | Epoch Time: 3m 23s\n",
      "\tTrain Loss: 0.757 | Train Acc: 69.03%\n",
      "\t Val. Loss: 0.847 |  Val. Acc: 66.00%\n",
      "Epoch: 05 | Epoch Time: 3m 19s\n",
      "\tTrain Loss: 0.725 | Train Acc: 70.30%\n",
      "\t Val. Loss: 0.854 |  Val. Acc: 66.10%\n",
      "Epoch: 06 | Epoch Time: 3m 38s\n",
      "\tTrain Loss: 0.697 | Train Acc: 71.66%\n",
      "\t Val. Loss: 0.863 |  Val. Acc: 66.44%\n",
      "Epoch: 07 | Epoch Time: 3m 51s\n",
      "\tTrain Loss: 0.675 | Train Acc: 72.25%\n",
      "\t Val. Loss: 0.870 |  Val. Acc: 66.46%\n",
      "Epoch: 08 | Epoch Time: 4m 7s\n",
      "\tTrain Loss: 0.652 | Train Acc: 73.27%\n",
      "\t Val. Loss: 0.881 |  Val. Acc: 66.52%\n",
      "Epoch: 09 | Epoch Time: 3m 35s\n",
      "\tTrain Loss: 0.637 | Train Acc: 73.72%\n",
      "\t Val. Loss: 0.912 |  Val. Acc: 66.35%\n",
      "Epoch: 10 | Epoch Time: 3m 31s\n",
      "\tTrain Loss: 0.618 | Train Acc: 74.62%\n",
      "\t Val. Loss: 0.918 |  Val. Acc: 66.12%\n"
     ]
    }
   ],
   "source": [
    "N_EPOCHS = 10\n",
    "\n",
    "best_valid_loss = float('inf')\n",
    "\n",
    "for epoch in range(N_EPOCHS):\n",
    "\n",
    "    start_time = time.time()\n",
    "    \n",
    "    train_loss, train_acc = train(model, train_iterator, optimizer, criterion)\n",
    "    valid_loss, valid_acc = evaluate(model, valid_iterator, criterion)\n",
    "    \n",
    "    end_time = time.time()\n",
    "\n",
    "    epoch_mins, epoch_secs = epoch_time(start_time, end_time)\n",
    "    \n",
    "    if valid_loss < best_valid_loss:\n",
    "        best_valid_loss = valid_loss\n",
    "        torch.save(model.state_dict(), 'model_CNN.pt')\n",
    "    \n",
    "    print(f'Epoch: {epoch+1:02} | Epoch Time: {epoch_mins}m {epoch_secs}s')\n",
    "    print(f'\\tTrain Loss: {train_loss:.3f} | Train Acc: {train_acc*100:.2f}%')\n",
    "    print(f'\\t Val. Loss: {valid_loss:.3f} |  Val. Acc: {valid_acc*100:.2f}%')"
   ]
  }
 ],
 "metadata": {
  "kernelspec": {
   "display_name": "Python 3 (ipykernel)",
   "language": "python",
   "name": "python3"
  },
  "language_info": {
   "codemirror_mode": {
    "name": "ipython",
    "version": 3
   },
   "file_extension": ".py",
   "mimetype": "text/x-python",
   "name": "python",
   "nbconvert_exporter": "python",
   "pygments_lexer": "ipython3",
   "version": "3.7.9"
  }
 },
 "nbformat": 4,
 "nbformat_minor": 5
}

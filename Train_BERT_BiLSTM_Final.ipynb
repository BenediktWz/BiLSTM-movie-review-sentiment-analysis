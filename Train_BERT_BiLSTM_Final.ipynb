{
  "cells": [
    {
      "cell_type": "markdown",
      "source": [
        "# BERT-LSTM"
      ],
      "metadata": {
        "id": "bQB9FEnRmEoc"
      },
      "id": "bQB9FEnRmEoc"
    },
    {
      "cell_type": "markdown",
      "source": [
        "## Imports and fixed SEED"
      ],
      "metadata": {
        "id": "ER7TPTH-nTrI"
      },
      "id": "ER7TPTH-nTrI"
    },
    {
      "cell_type": "code",
      "execution_count": 10,
      "id": "eccdf5f6-db40-4d10-881d-ad78e30840bd",
      "metadata": {
        "id": "eccdf5f6-db40-4d10-881d-ad78e30840bd"
      },
      "outputs": [],
      "source": [
        "import torch\n",
        "from torchtext.legacy import data\n",
        "import random\n",
        "import numpy as np\n",
        "\n",
        "SEED = 1234\n",
        "\n",
        "random.seed(SEED)\n",
        "np.random.seed(SEED)\n",
        "torch.manual_seed(SEED)\n",
        "torch.backends.cudnn.enabled = False \n",
        "torch.backends.cudnn.benchmark = False\n",
        "torch.backends.cudnn.deterministic = True\n",
        "\n",
        "# Only necessary for GPU\n",
        "# If available, the tensors will be allocated to a GPU\n",
        "device = torch.device('cuda' if torch.cuda.is_available() else 'cpu')"
      ]
    },
    {
      "cell_type": "markdown",
      "source": [
        "## Load Pretrained BERT Tokenizer\n",
        "\n",
        "The transformer has already been trained with a specific vocabulary, which means we need to train with the exact same vocabulary and also tokenize our data in the same way that the transformer did when it was initially trained.\n",
        "\n",
        "We are using the BERT model which ignores casing. We get this by loading the pre-trained bert-base-uncased tokenizer."
      ],
      "metadata": {
        "id": "LKyAlipqmYhE"
      },
      "id": "LKyAlipqmYhE"
    },
    {
      "cell_type": "code",
      "execution_count": 12,
      "id": "d8d83f87",
      "metadata": {
        "id": "d8d83f87"
      },
      "outputs": [],
      "source": [
        "from transformers import BertTokenizer\n",
        "\n",
        "tokenizer = BertTokenizer.from_pretrained('bert-base-uncased') "
      ]
    },
    {
      "cell_type": "markdown",
      "source": [
        "The transformer was also trained with special tokens to mark the beginning and end of the sentence, as well as a standard padding and unknown token. We can also get these from the tokenizer.\n",
        "- sep_token — The separator token, which is used when building a sequence from multiple sequences, e.g. two sequences for sequence classification or for a text and a question for question answering. It is also used as the last token of a sequence built with special tokens.\n",
        "- cls_token — The classifier token which is used when doing sequence classification (classification of the whole sequence instead of per-token classification). It is the first token of the sequence when built with special tokens."
      ],
      "metadata": {
        "id": "GPGnf0PR6ECQ"
      },
      "id": "GPGnf0PR6ECQ"
    },
    {
      "cell_type": "code",
      "execution_count": 13,
      "id": "bc9d30d8",
      "metadata": {
        "id": "bc9d30d8",
        "colab": {
          "base_uri": "https://localhost:8080/"
        },
        "outputId": "654f6386-98ff-4e5c-c9ad-34f9cc026774"
      },
      "outputs": [
        {
          "output_type": "stream",
          "name": "stdout",
          "text": [
            "512\n"
          ]
        }
      ],
      "source": [
        "init_token = tokenizer.cls_token \n",
        "eos_token = tokenizer.sep_token\n",
        "pad_token = tokenizer.pad_token\n",
        "unk_token = tokenizer.unk_token\n",
        "\n",
        "init_token_idx = tokenizer.cls_token_id\n",
        "eos_token_idx = tokenizer.sep_token_id\n",
        "pad_token_idx = tokenizer.pad_token_id\n",
        "unk_token_idx = tokenizer.unk_token_id\n",
        "\n",
        "max_input_length = tokenizer.max_model_input_sizes['bert-base-uncased']\n",
        "print(max_input_length)"
      ]
    },
    {
      "cell_type": "markdown",
      "source": [
        "### Tokenize and Cut\n",
        "We define a function to handle tokenization and cut down the number of tokens to a maximum length. The maximum length is 2 less than the actual maximum length. This is because we need to append two tokens to each sequence, one to the start and one to the end."
      ],
      "metadata": {
        "id": "aPRL-mqOwxPv"
      },
      "id": "aPRL-mqOwxPv"
    },
    {
      "cell_type": "code",
      "execution_count": 14,
      "id": "71bc6eee",
      "metadata": {
        "id": "71bc6eee"
      },
      "outputs": [],
      "source": [
        "def tokenize_and_cut(sentence):\n",
        "  # tokenize the sentence and cut down to maximum length\n",
        "  tokens = tokenizer.tokenize(sentence) \n",
        "  tokens = tokens[:max_input_length-2]\n",
        "  return tokens"
      ]
    },
    {
      "cell_type": "markdown",
      "source": [
        "## DataSet Definition\n",
        "\n",
        "Here we define the Dataset Structure and load the training and test dataset as TabularDataset.\n",
        "\n",
        "The columns PhraseId and SentenceId are artifacts of the raw Dataset-structure and can be omitted for training and testing.\n",
        "\n",
        "The transformer expects the batch dimension to be first, so we set `batch_first = True`. \n",
        "\n",
        "As we already have the vocabulary for our text, provided by the transformer we set `use_vocab = False` to tell torchtext that we'll be handling the vocabulary side of things. We pass our `tokenize_and_cut` function as the tokenizer. The `preprocessing` argument is a function that takes in the example after it has been tokenized, this is where we will convert the tokens to their indexes. Finally, we define the special tokens - making note that we are defining them to be their index value and not their string value. This is because the sequences will already be converted into indexes."
      ],
      "metadata": {
        "id": "Na2Q6renw11e"
      },
      "id": "Na2Q6renw11e"
    },
    {
      "cell_type": "code",
      "execution_count": 15,
      "id": "b26ea9a1",
      "metadata": {
        "id": "b26ea9a1"
      },
      "outputs": [],
      "source": [
        "# Create Field objects\n",
        "PHRASE = data.Field(batch_first = True,\n",
        "                  use_vocab = False,\n",
        "                  tokenize = tokenize_and_cut,\n",
        "                  preprocessing = tokenizer.convert_tokens_to_ids,\n",
        "                  init_token = init_token_idx,\n",
        "                  eos_token = eos_token_idx,\n",
        "                  pad_token = pad_token_idx,\n",
        "                  unk_token = unk_token_idx)\n",
        "SENTIMENT = data.LabelField()\n",
        "\n",
        "# Create tuples representing the columns\n",
        "fields = [\n",
        "  (None, None), # ignore PhraseId column\n",
        "  (None, None), # ignore SentenceId column\n",
        "  ('Phrase', PHRASE),\n",
        "  ('Sentiment', SENTIMENT)\n",
        "]\n",
        "\n",
        "# Load the dataset in tsv format\n",
        "train_ds, test_ds = data.TabularDataset.splits(\n",
        "   path = './data',\n",
        "   train = 'train.tsv',\n",
        "   test = 'test_mapped.tsv',\n",
        "   format = 'tsv',\n",
        "   fields = fields,\n",
        "   skip_header = True\n",
        ")"
      ]
    },
    {
      "cell_type": "markdown",
      "source": [
        "## Train- and Validation-Split\n",
        "\n",
        "Here we split the Data into Training and Validation-Set. We used the common split of 70/30 as it represents a good amount of training data, while at the same time having a rather large validation-set of 30%. This gives meaningful results in terms of generalization from the validation score.\n",
        "\n",
        "Another important setting is the usage of stratification based on the sentiment-labels. This ensures an equal distriubtion of the labels in the training and validation set."
      ],
      "metadata": {
        "id": "uxQR3J_Tzauv"
      },
      "id": "uxQR3J_Tzauv"
    },
    {
      "cell_type": "code",
      "execution_count": 16,
      "id": "288ba4d3",
      "metadata": {
        "id": "288ba4d3",
        "colab": {
          "base_uri": "https://localhost:8080/"
        },
        "outputId": "1b472d19-9017-48db-aa55-2c9b34ec6daf"
      },
      "outputs": [
        {
          "output_type": "stream",
          "name": "stdout",
          "text": [
            "Number of training examples: 109241\n",
            "Number of validation examples: 46819\n",
            "Number of testing examples: 65327\n"
          ]
        }
      ],
      "source": [
        "# Create validation dataset; splits 70/30 by default\n",
        "train_ds, valid_ds = train_ds.split(split_ratio=0.7, \n",
        "                                    stratified=True, \n",
        "                                    strata_field='Sentiment', \n",
        "                                    random_state = random.seed(SEED))\n",
        "\n",
        "print(f'Number of training examples: {len(train_ds)}')\n",
        "print(f'Number of validation examples: {len(valid_ds)}')\n",
        "print(f'Number of testing examples: {len(test_ds)}')"
      ]
    },
    {
      "cell_type": "markdown",
      "source": [
        "## Creating the Vocabulary\n",
        "\n",
        "Here only the vocabulary of the labels is built. \n",
        "\n",
        "Phrase vocabulary was already created in the Dataset Structure, using the pre-trained BERT.\n",
        "\n",
        "**Note:** The vocabulary DataField \"SENTIMENT\" is not created from the training data to preserve the correct indexing \"{'0': 0, '1': 1, '2': 2, '3': 3, '4': 4}\", and instead a vector of key value pairs is provided. "
      ],
      "metadata": {
        "id": "07W47wnB1jpZ"
      },
      "id": "07W47wnB1jpZ"
    },
    {
      "cell_type": "code",
      "execution_count": 17,
      "id": "11c3dd72",
      "metadata": {
        "id": "11c3dd72",
        "colab": {
          "base_uri": "https://localhost:8080/"
        },
        "outputId": "b240ba00-fca3-4dbe-e4cb-8bf973c85f23"
      },
      "outputs": [
        {
          "output_type": "stream",
          "name": "stdout",
          "text": [
            "Unique tokens in SENTIMENT vocabulary: 5\n"
          ]
        }
      ],
      "source": [
        "sentiment_labels = np.array(['0', '1', '2', '3', '4'])\n",
        "\n",
        "#SENTIMENT.build_vocab(train_ds) # old version\n",
        "SENTIMENT.build_vocab(sentiment_labels) # Custom indexing is necessary for correct mapping; {'0': 0, '1': 1, '2': 2, '3': 3, '4': 4}\n",
        "\n",
        "print(f\"Unique tokens in SENTIMENT vocabulary: {len(SENTIMENT.vocab)}\")"
      ]
    },
    {
      "cell_type": "markdown",
      "source": [
        "## Creation of the Iterators\n",
        "\n",
        "The Iterators are use to yield one Batch of the Data at a time. \n",
        "\n",
        "It is notworthhy that the Batch-Size is a parameter that can be tuned.\n",
        "\n",
        "\n",
        "\n",
        "\n",
        "\n"
      ],
      "metadata": {
        "id": "AY9IaZ7_BBcp"
      },
      "id": "AY9IaZ7_BBcp"
    },
    {
      "cell_type": "code",
      "execution_count": 18,
      "id": "e9f7050d",
      "metadata": {
        "id": "e9f7050d"
      },
      "outputs": [],
      "source": [
        "BATCH_SIZE = 64 # 32, 128, 256, 512\n",
        "\n",
        "# Creating the iterators\n",
        "train_iterator, valid_iterator, test_iterator = data.BucketIterator.splits(\n",
        "    (train_ds, valid_ds, test_ds), \n",
        "    batch_size = BATCH_SIZE,\n",
        "    sort = False,\n",
        "    sort_key = lambda x: len(x.Phrase),\n",
        "    sort_within_batch = True,\n",
        "    device = device)"
      ]
    },
    {
      "cell_type": "markdown",
      "source": [
        "## Model Definition\n",
        "\n",
        "Instantiate a pretrained pytorch model from the pre-trained model configuration Bert-base-uncased.\n",
        "\n",
        "\n",
        "Instead of using an embedding layer to get embeddings for our text, we'll be using the pre-trained transformer model. These embeddings will then be fed into a LSTM to produce a prediction for the sentiment of the input sentence. We get the embedding dimension size (called the `hidden_size`) from the transformer via its config attribute. The rest of the initialization is standard.\n",
        "\n",
        "Within the forward pass, we wrap the transformer in a no_grad to ensure no gradients are calculated over this part of the model. "
      ],
      "metadata": {
        "id": "dtF6VyctDfVD"
      },
      "id": "dtF6VyctDfVD"
    },
    {
      "cell_type": "code",
      "execution_count": 19,
      "id": "cf1c5625",
      "metadata": {
        "colab": {
          "base_uri": "https://localhost:8080/",
          "height": 121,
          "referenced_widgets": [
            "03b2cf068ea742588d40176bc5125892",
            "bacd8130c2c3456389e3f365dc0166f0",
            "8709bbde0d464b39899058a657848e8c",
            "57f53a9182ec4f69b48b0fa0c0af0004",
            "0d34d415980a4f5fb796091fd517e156",
            "b786d777a1ea4db3ae92e45f3fa8cdef",
            "39100eecf0ca4899b3fe2d329de28faa",
            "39cb57c6f08a4c42ac9a161a6989f639",
            "e7dae13b7490482593f09604056fb47f",
            "f7524289bcbf47d1a19cef16de39e932",
            "db2d7868d5924eb7afabea3547fe81cd"
          ]
        },
        "id": "cf1c5625",
        "outputId": "a4a5c834-1d22-4992-d060-e780c34bb903"
      },
      "outputs": [
        {
          "output_type": "display_data",
          "data": {
            "application/vnd.jupyter.widget-view+json": {
              "model_id": "03b2cf068ea742588d40176bc5125892",
              "version_minor": 0,
              "version_major": 2
            },
            "text/plain": [
              "Downloading:   0%|          | 0.00/420M [00:00<?, ?B/s]"
            ]
          },
          "metadata": {}
        },
        {
          "output_type": "stream",
          "name": "stderr",
          "text": [
            "Some weights of the model checkpoint at bert-base-uncased were not used when initializing BertModel: ['cls.predictions.transform.dense.weight', 'cls.seq_relationship.weight', 'cls.predictions.transform.LayerNorm.bias', 'cls.predictions.transform.dense.bias', 'cls.predictions.transform.LayerNorm.weight', 'cls.seq_relationship.bias', 'cls.predictions.decoder.weight', 'cls.predictions.bias']\n",
            "- This IS expected if you are initializing BertModel from the checkpoint of a model trained on another task or with another architecture (e.g. initializing a BertForSequenceClassification model from a BertForPreTraining model).\n",
            "- This IS NOT expected if you are initializing BertModel from the checkpoint of a model that you expect to be exactly identical (initializing a BertForSequenceClassification model from a BertForSequenceClassification model).\n"
          ]
        }
      ],
      "source": [
        "from transformers import BertModel\n",
        "\n",
        "bert = BertModel.from_pretrained('bert-base-uncased')"
      ]
    },
    {
      "cell_type": "code",
      "execution_count": 20,
      "id": "c6670f83",
      "metadata": {
        "id": "c6670f83"
      },
      "outputs": [],
      "source": [
        "import torch.nn as nn\n",
        "\n",
        "class LSTM(nn.Module):\n",
        "    def __init__(   self, \n",
        "                    bert,\n",
        "                    hidden_dim, \n",
        "                    output_dim, \n",
        "                    n_layers, \n",
        "                    bidirectional, \n",
        "                    dropout):\n",
        "        \n",
        "        super().__init__()\n",
        "        \n",
        "        # pretrained bert as embedding layer\n",
        "        self.bert = bert\n",
        "        \n",
        "        embedding_dim = bert.config.to_dict()['hidden_size']\n",
        "        \n",
        "        # lstm-layer\n",
        "        self.lstm = nn.LSTM(embedding_dim, \n",
        "                           hidden_dim, \n",
        "                           num_layers=n_layers, \n",
        "                           bidirectional=bidirectional, \n",
        "                           batch_first = True,\n",
        "                           dropout = 0 if n_layers < 2 else dropout)\n",
        "        \n",
        "        # fully-connectet layer\n",
        "        self.out = nn.Linear(hidden_dim * 2 if bidirectional else hidden_dim, output_dim)\n",
        "        \n",
        "        self.dropout = nn.Dropout(dropout)\n",
        "        \n",
        "    def forward(self, text):\n",
        "        \n",
        "        #text = [batch size, sent len]\n",
        "                \n",
        "        with torch.no_grad():\n",
        "            embedded = self.bert(text)[0]\n",
        "                \n",
        "        #embedded = [batch size, sent len, emb dim]\n",
        "\n",
        "        _, (hidden, cell) = self.lstm(embedded)\n",
        "        \n",
        "        #hidden = [n layers * n directions, batch size, emb dim]\n",
        "        #cell = [n layers * n directions, batch size, emb dim]\n",
        "        \n",
        "        if self.lstm.bidirectional:\n",
        "            hidden = self.dropout(torch.cat((hidden[-2,:,:], hidden[-1,:,:]), dim = 1))\n",
        "        else:\n",
        "            hidden = self.dropout(hidden[-1,:,:])\n",
        "                \n",
        "        #hidden = [batch size, hid dim]\n",
        "        \n",
        "        output = self.out(hidden)\n",
        "        \n",
        "        #output = [batch size, out dim]\n",
        "        \n",
        "        return output"
      ]
    },
    {
      "cell_type": "markdown",
      "source": [
        "## Setting the Hyper-Parameters \n",
        "\n",
        "The following parameters are used to initialize the model. "
      ],
      "metadata": {
        "id": "w3e81mOrArPi"
      },
      "id": "w3e81mOrArPi"
    },
    {
      "cell_type": "code",
      "execution_count": 21,
      "id": "35f4cbe3",
      "metadata": {
        "id": "35f4cbe3"
      },
      "outputs": [],
      "source": [
        "HIDDEN_DIM = 256                  # 128, 512\n",
        "OUTPUT_DIM = len(SENTIMENT.vocab)\n",
        "N_LAYERS = 2                      # 4, 8\n",
        "BIDIRECTIONAL = True              # False\n",
        "DROPOUT = 0.25                    # 0.5, 0.75\n",
        "\n",
        "model = LSTM(bert, \n",
        "            HIDDEN_DIM, \n",
        "            OUTPUT_DIM, \n",
        "            N_LAYERS, \n",
        "            BIDIRECTIONAL, \n",
        "            DROPOUT)"
      ]
    },
    {
      "cell_type": "markdown",
      "source": [
        "We fix the Bert Layer parameters, thus they will not be trained and amount of trained parameters is much lower in this case."
      ],
      "metadata": {
        "id": "UhE32oe3Hrh-"
      },
      "id": "UhE32oe3Hrh-"
    },
    {
      "cell_type": "code",
      "execution_count": 22,
      "id": "f6ff5149",
      "metadata": {
        "colab": {
          "base_uri": "https://localhost:8080/"
        },
        "id": "f6ff5149",
        "outputId": "a0b63019-a6fb-45bc-c4ff-39514a4b3408"
      },
      "outputs": [
        {
          "output_type": "stream",
          "name": "stdout",
          "text": [
            "The model including the Bert parameters has 113,163,013 trainable parameters\n"
          ]
        }
      ],
      "source": [
        "def count_parameters(model):\n",
        "    return sum(p.numel() for p in model.parameters() if p.requires_grad)\n",
        "\n",
        "print(f'The model including the Bert parameters has {count_parameters(model):,} trainable parameters')"
      ]
    },
    {
      "cell_type": "code",
      "execution_count": 23,
      "id": "baca65b8",
      "metadata": {
        "id": "baca65b8",
        "colab": {
          "base_uri": "https://localhost:8080/"
        },
        "outputId": "a8ada490-4832-4a98-9355-6a8572ef3840"
      },
      "outputs": [
        {
          "output_type": "stream",
          "name": "stdout",
          "text": [
            "The model has 3,680,773 trainable parameters\n"
          ]
        }
      ],
      "source": [
        "# freeze paramers (not train them)\n",
        "for name, param in model.named_parameters():                \n",
        "    if name.startswith('bert'):\n",
        "        param.requires_grad = False\n",
        "print(f'The model has {count_parameters(model):,} trainable parameters')"
      ]
    },
    {
      "cell_type": "markdown",
      "source": [
        "Those are the weights and biases that will be trained:"
      ],
      "metadata": {
        "id": "UlMGOf0EKppf"
      },
      "id": "UlMGOf0EKppf"
    },
    {
      "cell_type": "code",
      "execution_count": 24,
      "id": "fc856e99",
      "metadata": {
        "colab": {
          "base_uri": "https://localhost:8080/"
        },
        "id": "fc856e99",
        "outputId": "0d302aeb-56aa-4834-c8ce-fcfc8358defd"
      },
      "outputs": [
        {
          "output_type": "stream",
          "name": "stdout",
          "text": [
            "lstm.weight_ih_l0\n",
            "lstm.weight_hh_l0\n",
            "lstm.bias_ih_l0\n",
            "lstm.bias_hh_l0\n",
            "lstm.weight_ih_l0_reverse\n",
            "lstm.weight_hh_l0_reverse\n",
            "lstm.bias_ih_l0_reverse\n",
            "lstm.bias_hh_l0_reverse\n",
            "lstm.weight_ih_l1\n",
            "lstm.weight_hh_l1\n",
            "lstm.bias_ih_l1\n",
            "lstm.bias_hh_l1\n",
            "lstm.weight_ih_l1_reverse\n",
            "lstm.weight_hh_l1_reverse\n",
            "lstm.bias_ih_l1_reverse\n",
            "lstm.bias_hh_l1_reverse\n",
            "out.weight\n",
            "out.bias\n"
          ]
        }
      ],
      "source": [
        "# check the names of the trainable parameters\n",
        "for name, param in model.named_parameters():                \n",
        "    if param.requires_grad:\n",
        "        print(name)"
      ]
    },
    {
      "cell_type": "markdown",
      "source": [
        "## Optimizer\n",
        "\n",
        "Adaptive Momentum (Adam) Optimizer with included Momentum Term and Gradient Normalization. Regularization Term (weight decay) with small parameter lambda is additionally applied."
      ],
      "metadata": {
        "id": "jPj14sceK1AO"
      },
      "id": "jPj14sceK1AO"
    },
    {
      "cell_type": "code",
      "execution_count": 25,
      "id": "aa4e5fe0",
      "metadata": {
        "id": "aa4e5fe0"
      },
      "outputs": [],
      "source": [
        "import torch.optim as optim\n",
        "\n",
        "optimizer = optim.Adam(model.parameters())"
      ]
    },
    {
      "cell_type": "markdown",
      "source": [
        "## Loss and Accuracy\n",
        "\n",
        "For a multi-class classification task we use the CrossEntropy Loss and categorical accuracy as our performance metrics."
      ],
      "metadata": {
        "id": "ogg6rfw4K7z1"
      },
      "id": "ogg6rfw4K7z1"
    },
    {
      "cell_type": "code",
      "execution_count": 26,
      "id": "93edf04d",
      "metadata": {
        "id": "93edf04d"
      },
      "outputs": [],
      "source": [
        "criterion = nn.CrossEntropyLoss()\n",
        "\n",
        "# model and criterion tensor will be allocated to CPU/GPU\n",
        "model = model.to(device)\n",
        "criterion = criterion.to(device)"
      ]
    },
    {
      "cell_type": "code",
      "execution_count": 27,
      "id": "d5e65924",
      "metadata": {
        "id": "d5e65924"
      },
      "outputs": [],
      "source": [
        "def categorical_accuracy(preds, y):\n",
        "    \n",
        "    # Returns accuracy per batch, i.e. if you get 8/10 right, this returns 0.8, NOT 8\n",
        "    \n",
        "    top_pred = preds.argmax(1, keepdim = True)\n",
        "    correct = top_pred.eq(y.view_as(top_pred)).sum()\n",
        "    acc = correct.float() / y.shape[0]\n",
        "    return acc"
      ]
    },
    {
      "cell_type": "markdown",
      "source": [
        "## Definition of Training and Evaluation Method\n",
        "\n",
        "These Methods represent one training epoch. For every epoch the train method gets called and iterates over each batch, whereafter the wheights are updated in the backward step based on the calculated loss.\n",
        "\n",
        "(Forward pass, loss calculation, backpropagation, weight update)\n",
        "\n"
      ],
      "metadata": {
        "id": "lfiSx9LRMPrj"
      },
      "id": "lfiSx9LRMPrj"
    },
    {
      "cell_type": "code",
      "execution_count": 28,
      "id": "ce7e76bc",
      "metadata": {
        "id": "ce7e76bc"
      },
      "outputs": [],
      "source": [
        "def train(model, iterator, optimizer, criterion):\n",
        "    \n",
        "    epoch_loss = 0\n",
        "    epoch_acc = 0\n",
        "    \n",
        "    model.train()\n",
        "    \n",
        "    for batch in iterator:\n",
        "        \n",
        "        optimizer.zero_grad()\n",
        "        \n",
        "        predictions = model(batch.Phrase)\n",
        "        \n",
        "        loss = criterion(predictions, batch.Sentiment)\n",
        "        \n",
        "        acc = categorical_accuracy(predictions, batch.Sentiment)\n",
        "        \n",
        "        loss.backward()\n",
        "        \n",
        "        optimizer.step()\n",
        "\n",
        "        epoch_loss += loss.item()\n",
        "        epoch_acc += acc.item()\n",
        "        \n",
        "    return epoch_loss / len(iterator), epoch_acc / len(iterator)"
      ]
    },
    {
      "cell_type": "markdown",
      "source": [
        "The evaluate Method calculates the pefromance of the Model on the validation set with the weights of the current epoch."
      ],
      "metadata": {
        "id": "Fhtnh_hFNxLG"
      },
      "id": "Fhtnh_hFNxLG"
    },
    {
      "cell_type": "code",
      "execution_count": 29,
      "id": "59af27c4",
      "metadata": {
        "id": "59af27c4"
      },
      "outputs": [],
      "source": [
        "def evaluate(model, iterator, criterion):\n",
        "    \n",
        "    epoch_loss = 0\n",
        "    epoch_acc = 0\n",
        "    \n",
        "    model.eval()\n",
        "    \n",
        "    with torch.no_grad():\n",
        "    \n",
        "        for batch in iterator:\n",
        "        \n",
        "            predictions = model(batch.Phrase)\n",
        "            \n",
        "            loss = criterion(predictions, batch.Sentiment)\n",
        "\n",
        "            acc = categorical_accuracy(predictions, batch.Sentiment)\n",
        "\n",
        "            epoch_loss += loss.item()\n",
        "            epoch_acc += acc.item()\n",
        "        \n",
        "    return epoch_loss / len(iterator), epoch_acc / len(iterator)"
      ]
    },
    {
      "cell_type": "markdown",
      "source": [
        "## Training and Evaluation"
      ],
      "metadata": {
        "id": "9g3OPkVhOwgb"
      },
      "id": "9g3OPkVhOwgb"
    },
    {
      "cell_type": "markdown",
      "source": [
        "Auxiliary Function, to calculate the duration of the training time for one full epoch."
      ],
      "metadata": {
        "id": "IpY1SoY1OLDV"
      },
      "id": "IpY1SoY1OLDV"
    },
    {
      "cell_type": "code",
      "execution_count": 30,
      "id": "6035fbfb",
      "metadata": {
        "id": "6035fbfb"
      },
      "outputs": [],
      "source": [
        "import time\n",
        "\n",
        "def epoch_time(start_time, end_time):\n",
        "    elapsed_time = end_time - start_time\n",
        "    elapsed_mins = int(elapsed_time / 60)\n",
        "    elapsed_secs = int(elapsed_time - (elapsed_mins * 60))\n",
        "    return elapsed_mins, elapsed_secs"
      ]
    },
    {
      "cell_type": "markdown",
      "source": [
        "Here the final training loop is executed N times. N is therefore the amount of Training-Epochs.\n",
        "\n",
        "Calls training and evaluation method in every epoch and saves the model with the highest evaluation accuracy.\n",
        "\n"
      ],
      "metadata": {
        "id": "1NoZb1fbOrfs"
      },
      "id": "1NoZb1fbOrfs"
    },
    {
      "cell_type": "code",
      "execution_count": 31,
      "id": "782910ac",
      "metadata": {
        "colab": {
          "base_uri": "https://localhost:8080/"
        },
        "id": "782910ac",
        "outputId": "f03999ff-7281-4103-a65c-82be37287e26"
      },
      "outputs": [
        {
          "output_type": "stream",
          "name": "stdout",
          "text": [
            "Epoch: 01 | Epoch Time: 5m 1s\n",
            "\tTrain Loss: 0.928 | Train Acc: 61.79%\n",
            "\t Val. Loss: 0.854 |  Val. Acc: 64.66%\n",
            "Epoch: 02 | Epoch Time: 5m 1s\n",
            "\tTrain Loss: 0.855 | Train Acc: 64.48%\n",
            "\t Val. Loss: 0.818 |  Val. Acc: 65.84%\n",
            "Epoch: 03 | Epoch Time: 5m 1s\n",
            "\tTrain Loss: 0.813 | Train Acc: 66.19%\n",
            "\t Val. Loss: 0.800 |  Val. Acc: 66.61%\n",
            "Epoch: 04 | Epoch Time: 5m 0s\n",
            "\tTrain Loss: 0.780 | Train Acc: 67.55%\n",
            "\t Val. Loss: 0.807 |  Val. Acc: 66.71%\n",
            "Epoch: 05 | Epoch Time: 5m 1s\n",
            "\tTrain Loss: 0.750 | Train Acc: 68.92%\n",
            "\t Val. Loss: 0.822 |  Val. Acc: 66.30%\n",
            "Epoch: 06 | Epoch Time: 5m 0s\n",
            "\tTrain Loss: 0.722 | Train Acc: 70.00%\n",
            "\t Val. Loss: 0.789 |  Val. Acc: 67.83%\n",
            "Epoch: 07 | Epoch Time: 5m 1s\n",
            "\tTrain Loss: 0.696 | Train Acc: 71.01%\n",
            "\t Val. Loss: 0.784 |  Val. Acc: 68.10%\n",
            "Epoch: 08 | Epoch Time: 5m 1s\n",
            "\tTrain Loss: 0.674 | Train Acc: 72.02%\n",
            "\t Val. Loss: 0.786 |  Val. Acc: 67.99%\n",
            "Epoch: 09 | Epoch Time: 5m 0s\n",
            "\tTrain Loss: 0.655 | Train Acc: 73.01%\n",
            "\t Val. Loss: 0.802 |  Val. Acc: 67.60%\n",
            "Epoch: 10 | Epoch Time: 5m 0s\n",
            "\tTrain Loss: 0.637 | Train Acc: 73.68%\n",
            "\t Val. Loss: 0.809 |  Val. Acc: 67.20%\n"
          ]
        }
      ],
      "source": [
        "N_EPOCHS = 10\n",
        "\n",
        "best_valid_loss = float('inf')\n",
        "\n",
        "# to track the average training loss and accuracy per epoch as the model trains\n",
        "avg_train_losses = []\n",
        "avg_train_accuracies = []\n",
        "# to track the average validation loss and accuracy per epoch as the model trains\n",
        "avg_valid_losses = []\n",
        "avg_valid_accuracies = []\n",
        "\n",
        "for epoch in range(N_EPOCHS):\n",
        "\n",
        "    start_time = time.time()\n",
        "    \n",
        "    train_loss, train_acc = train(model, train_iterator, optimizer, criterion)\n",
        "    valid_loss, valid_acc = evaluate(model, valid_iterator, criterion)\n",
        "    \n",
        "    end_time = time.time()\n",
        "\n",
        "    epoch_mins, epoch_secs = epoch_time(start_time, end_time)\n",
        "    \n",
        "    if valid_loss < best_valid_loss:\n",
        "        best_valid_loss = valid_loss\n",
        "        torch.save(model.state_dict(), 'model_BERT.pt')\n",
        "\n",
        "    # calculate average loss over an epoch\n",
        "    avg_train_losses.append(train_loss)\n",
        "    avg_valid_losses.append(valid_loss)\n",
        "\n",
        "    avg_train_accuracies.append(train_acc)\n",
        "    avg_valid_accuracies.append(valid_acc)\n",
        "    \n",
        "    print(f'Epoch: {epoch+1:02} | Epoch Time: {epoch_mins}m {epoch_secs}s')\n",
        "    print(f'\\tTrain Loss: {train_loss:.3f} | Train Acc: {train_acc*100:.2f}%')\n",
        "    print(f'\\t Val. Loss: {valid_loss:.3f} |  Val. Acc: {valid_acc*100:.2f}%')"
      ]
    },
    {
      "cell_type": "markdown",
      "source": [
        "## Visualization\n",
        "\n",
        "Finally we present a Visualization of the Training and Validation Score over the Epochs to determine a good stoping point."
      ],
      "metadata": {
        "id": "xYyN-aX7Qdm_"
      },
      "id": "xYyN-aX7Qdm_"
    },
    {
      "cell_type": "markdown",
      "source": [
        "Loss Visualization"
      ],
      "metadata": {
        "id": "YxvZFRQsK6Xo"
      },
      "id": "YxvZFRQsK6Xo"
    },
    {
      "cell_type": "code",
      "source": [
        "import matplotlib.pyplot as plt\n",
        "\n",
        "# visualize the loss as the network trained\n",
        "fig = plt.figure(figsize=(10,8))\n",
        "plt.plot(range(1,len(avg_train_losses)+1),avg_train_losses, label='Training Loss')\n",
        "plt.plot(range(1,len(avg_valid_losses)+1),avg_valid_losses,label='Validation Loss')\n",
        "\n",
        "# find position of lowest validation loss\n",
        "minposs = avg_valid_losses.index(min(avg_valid_losses))+1 \n",
        "plt.axvline(minposs, linestyle='--', color='r',label='Early Stopping Checkpoint')\n",
        "\n",
        "plt.xlabel('epochs')\n",
        "plt.ylabel('loss')\n",
        "#plt.ylim(0.5, 1) # consistent scale\n",
        "#plt.xlim(0, len(avg_train_losses)+1) # consistent scale\n",
        "#plt.grid(True)\n",
        "plt.legend()\n",
        "#plt.tight_layout()\n",
        "plt.show()\n",
        "fig.savefig('loss_plot.png', bbox_inches='tight')"
      ],
      "metadata": {
        "colab": {
          "base_uri": "https://localhost:8080/",
          "height": 497
        },
        "id": "tro_PxZL-nze",
        "outputId": "3f5fb857-1e0b-4902-b99c-7056ec5dbc04"
      },
      "id": "tro_PxZL-nze",
      "execution_count": 32,
      "outputs": [
        {
          "output_type": "display_data",
          "data": {
            "image/png": "[encoded data removed]",
            "text/plain": [
              "<Figure size 720x576 with 1 Axes>"
            ]
          },
          "metadata": {
            "needs_background": "light"
          }
        }
      ]
    },
    {
      "cell_type": "markdown",
      "source": [
        "Accuracy Visualization"
      ],
      "metadata": {
        "id": "PIu6a5kvLAVN"
      },
      "id": "PIu6a5kvLAVN"
    },
    {
      "cell_type": "code",
      "source": [
        "# visualize the loss as the network trained\n",
        "\n",
        "fig = plt.figure(figsize=(10,8))\n",
        "plt.plot(range(1,len(avg_train_accuracies)+1),avg_train_accuracies, label='Training Accuracy')\n",
        "plt.plot(range(1,len(avg_valid_accuracies)+1),avg_valid_accuracies,label='Validation Accuracy')\n",
        "\n",
        "\n",
        "\n",
        "# find position of lowest validation loss\n",
        "\n",
        "minposs = avg_valid_accuracies.index(max(avg_valid_accuracies))+1 \n",
        "plt.axvline(minposs, linestyle='--', color='r',label='Early Stopping Checkpoint')\n",
        "plt.xlabel('epochs')\n",
        "plt.ylabel('accuracy')\n",
        "\n",
        "\n",
        "\n",
        "#plt.grid(True)\n",
        "\n",
        "plt.legend()\n",
        "#plt.tight_layout()\n",
        "plt.show()\n",
        "fig.savefig('acc_plot.png', bbox_inches='tight')"
      ],
      "metadata": {
        "id": "WKtZt3QZtVZG",
        "colab": {
          "base_uri": "https://localhost:8080/",
          "height": 497
        },
        "outputId": "626b81a6-17bf-4e93-daf4-9e0896cb80a7"
      },
      "id": "WKtZt3QZtVZG",
      "execution_count": 33,
      "outputs": [
        {
          "output_type": "display_data",
          "data": {
            "image/png": "[encoded data removed]",
            "text/plain": [
              "<Figure size 720x576 with 1 Axes>"
            ]
          },
          "metadata": {
            "needs_background": "light"
          }
        }
      ]
    }
  ],
  "metadata": {
    "kernelspec": {
      "display_name": "Python 3 (ipykernel)",
      "language": "python",
      "name": "python3"
    },
    "language_info": {
      "codemirror_mode": {
        "name": "ipython",
        "version": 3
      },
      "file_extension": ".py",
      "mimetype": "text/x-python",
      "name": "python",
      "nbconvert_exporter": "python",
      "pygments_lexer": "ipython3",
      "version": "3.7.9"
    },
    "colab": {
      "name": "Train_BERT_BiLSTM_Final.ipynb",
      "provenance": [],
      "collapsed_sections": []
    },
    "accelerator": "GPU",
    "widgets": {
      "application/vnd.jupyter.widget-state+json": {
        "03b2cf068ea742588d40176bc5125892": {
          "model_module": "@jupyter-widgets/controls",
          "model_name": "HBoxModel",
          "model_module_version": "1.5.0",
          "state": {
            "_view_name": "HBoxView",
            "_dom_classes": [],
            "_model_name": "HBoxModel",
            "_view_module": "@jupyter-widgets/controls",
            "_model_module_version": "1.5.0",
            "_view_count": null,
            "_view_module_version": "1.5.0",
            "box_style": "",
            "layout": "IPY_MODEL_bacd8130c2c3456389e3f365dc0166f0",
            "_model_module": "@jupyter-widgets/controls",
            "children": [
              "IPY_MODEL_8709bbde0d464b39899058a657848e8c",
              "IPY_MODEL_57f53a9182ec4f69b48b0fa0c0af0004",
              "IPY_MODEL_0d34d415980a4f5fb796091fd517e156"
            ]
          }
        },
        "bacd8130c2c3456389e3f365dc0166f0": {
          "model_module": "@jupyter-widgets/base",
          "model_name": "LayoutModel",
          "model_module_version": "1.2.0",
          "state": {
            "_view_name": "LayoutView",
            "grid_template_rows": null,
            "right": null,
            "justify_content": null,
            "_view_module": "@jupyter-widgets/base",
            "overflow": null,
            "_model_module_version": "1.2.0",
            "_view_count": null,
            "flex_flow": null,
            "width": null,
            "min_width": null,
            "border": null,
            "align_items": null,
            "bottom": null,
            "_model_module": "@jupyter-widgets/base",
            "top": null,
            "grid_column": null,
            "overflow_y": null,
            "overflow_x": null,
            "grid_auto_flow": null,
            "grid_area": null,
            "grid_template_columns": null,
            "flex": null,
            "_model_name": "LayoutModel",
            "justify_items": null,
            "grid_row": null,
            "max_height": null,
            "align_content": null,
            "visibility": null,
            "align_self": null,
            "height": null,
            "min_height": null,
            "padding": null,
            "grid_auto_rows": null,
            "grid_gap": null,
            "max_width": null,
            "order": null,
            "_view_module_version": "1.2.0",
            "grid_template_areas": null,
            "object_position": null,
            "object_fit": null,
            "grid_auto_columns": null,
            "margin": null,
            "display": null,
            "left": null
          }
        },
        "8709bbde0d464b39899058a657848e8c": {
          "model_module": "@jupyter-widgets/controls",
          "model_name": "HTMLModel",
          "model_module_version": "1.5.0",
          "state": {
            "_view_name": "HTMLView",
            "style": "IPY_MODEL_b786d777a1ea4db3ae92e45f3fa8cdef",
            "_dom_classes": [],
            "description": "",
            "_model_name": "HTMLModel",
            "placeholder": "​",
            "_view_module": "@jupyter-widgets/controls",
            "_model_module_version": "1.5.0",
            "value": "Downloading: 100%",
            "_view_count": null,
            "_view_module_version": "1.5.0",
            "description_tooltip": null,
            "_model_module": "@jupyter-widgets/controls",
            "layout": "IPY_MODEL_39100eecf0ca4899b3fe2d329de28faa"
          }
        },
        "57f53a9182ec4f69b48b0fa0c0af0004": {
          "model_module": "@jupyter-widgets/controls",
          "model_name": "FloatProgressModel",
          "model_module_version": "1.5.0",
          "state": {
            "_view_name": "ProgressView",
            "style": "IPY_MODEL_39cb57c6f08a4c42ac9a161a6989f639",
            "_dom_classes": [],
            "description": "",
            "_model_name": "FloatProgressModel",
            "bar_style": "success",
            "max": 440473133,
            "_view_module": "@jupyter-widgets/controls",
            "_model_module_version": "1.5.0",
            "value": 440473133,
            "_view_count": null,
            "_view_module_version": "1.5.0",
            "orientation": "horizontal",
            "min": 0,
            "description_tooltip": null,
            "_model_module": "@jupyter-widgets/controls",
            "layout": "IPY_MODEL_e7dae13b7490482593f09604056fb47f"
          }
        },
        "0d34d415980a4f5fb796091fd517e156": {
          "model_module": "@jupyter-widgets/controls",
          "model_name": "HTMLModel",
          "model_module_version": "1.5.0",
          "state": {
            "_view_name": "HTMLView",
            "style": "IPY_MODEL_f7524289bcbf47d1a19cef16de39e932",
            "_dom_classes": [],
            "description": "",
            "_model_name": "HTMLModel",
            "placeholder": "​",
            "_view_module": "@jupyter-widgets/controls",
            "_model_module_version": "1.5.0",
            "value": " 420M/420M [00:12&lt;00:00, 34.6MB/s]",
            "_view_count": null,
            "_view_module_version": "1.5.0",
            "description_tooltip": null,
            "_model_module": "@jupyter-widgets/controls",
            "layout": "IPY_MODEL_db2d7868d5924eb7afabea3547fe81cd"
          }
        },
        "b786d777a1ea4db3ae92e45f3fa8cdef": {
          "model_module": "@jupyter-widgets/controls",
          "model_name": "DescriptionStyleModel",
          "model_module_version": "1.5.0",
          "state": {
            "_view_name": "StyleView",
            "_model_name": "DescriptionStyleModel",
            "description_width": "",
            "_view_module": "@jupyter-widgets/base",
            "_model_module_version": "1.5.0",
            "_view_count": null,
            "_view_module_version": "1.2.0",
            "_model_module": "@jupyter-widgets/controls"
          }
        },
        "39100eecf0ca4899b3fe2d329de28faa": {
          "model_module": "@jupyter-widgets/base",
          "model_name": "LayoutModel",
          "model_module_version": "1.2.0",
          "state": {
            "_view_name": "LayoutView",
            "grid_template_rows": null,
            "right": null,
            "justify_content": null,
            "_view_module": "@jupyter-widgets/base",
            "overflow": null,
            "_model_module_version": "1.2.0",
            "_view_count": null,
            "flex_flow": null,
            "width": null,
            "min_width": null,
            "border": null,
            "align_items": null,
            "bottom": null,
            "_model_module": "@jupyter-widgets/base",
            "top": null,
            "grid_column": null,
            "overflow_y": null,
            "overflow_x": null,
            "grid_auto_flow": null,
            "grid_area": null,
            "grid_template_columns": null,
            "flex": null,
            "_model_name": "LayoutModel",
            "justify_items": null,
            "grid_row": null,
            "max_height": null,
            "align_content": null,
            "visibility": null,
            "align_self": null,
            "height": null,
            "min_height": null,
            "padding": null,
            "grid_auto_rows": null,
            "grid_gap": null,
            "max_width": null,
            "order": null,
            "_view_module_version": "1.2.0",
            "grid_template_areas": null,
            "object_position": null,
            "object_fit": null,
            "grid_auto_columns": null,
            "margin": null,
            "display": null,
            "left": null
          }
        },
        "39cb57c6f08a4c42ac9a161a6989f639": {
          "model_module": "@jupyter-widgets/controls",
          "model_name": "ProgressStyleModel",
          "model_module_version": "1.5.0",
          "state": {
            "_view_name": "StyleView",
            "_model_name": "ProgressStyleModel",
            "description_width": "",
            "_view_module": "@jupyter-widgets/base",
            "_model_module_version": "1.5.0",
            "_view_count": null,
            "_view_module_version": "1.2.0",
            "bar_color": null,
            "_model_module": "@jupyter-widgets/controls"
          }
        },
        "e7dae13b7490482593f09604056fb47f": {
          "model_module": "@jupyter-widgets/base",
          "model_name": "LayoutModel",
          "model_module_version": "1.2.0",
          "state": {
            "_view_name": "LayoutView",
            "grid_template_rows": null,
            "right": null,
            "justify_content": null,
            "_view_module": "@jupyter-widgets/base",
            "overflow": null,
            "_model_module_version": "1.2.0",
            "_view_count": null,
            "flex_flow": null,
            "width": null,
            "min_width": null,
            "border": null,
            "align_items": null,
            "bottom": null,
            "_model_module": "@jupyter-widgets/base",
            "top": null,
            "grid_column": null,
            "overflow_y": null,
            "overflow_x": null,
            "grid_auto_flow": null,
            "grid_area": null,
            "grid_template_columns": null,
            "flex": null,
            "_model_name": "LayoutModel",
            "justify_items": null,
            "grid_row": null,
            "max_height": null,
            "align_content": null,
            "visibility": null,
            "align_self": null,
            "height": null,
            "min_height": null,
            "padding": null,
            "grid_auto_rows": null,
            "grid_gap": null,
            "max_width": null,
            "order": null,
            "_view_module_version": "1.2.0",
            "grid_template_areas": null,
            "object_position": null,
            "object_fit": null,
            "grid_auto_columns": null,
            "margin": null,
            "display": null,
            "left": null
          }
        },
        "f7524289bcbf47d1a19cef16de39e932": {
          "model_module": "@jupyter-widgets/controls",
          "model_name": "DescriptionStyleModel",
          "model_module_version": "1.5.0",
          "state": {
            "_view_name": "StyleView",
            "_model_name": "DescriptionStyleModel",
            "description_width": "",
            "_view_module": "@jupyter-widgets/base",
            "_model_module_version": "1.5.0",
            "_view_count": null,
            "_view_module_version": "1.2.0",
            "_model_module": "@jupyter-widgets/controls"
          }
        },
        "db2d7868d5924eb7afabea3547fe81cd": {
          "model_module": "@jupyter-widgets/base",
          "model_name": "LayoutModel",
          "model_module_version": "1.2.0",
          "state": {
            "_view_name": "LayoutView",
            "grid_template_rows": null,
            "right": null,
            "justify_content": null,
            "_view_module": "@jupyter-widgets/base",
            "overflow": null,
            "_model_module_version": "1.2.0",
            "_view_count": null,
            "flex_flow": null,
            "width": null,
            "min_width": null,
            "border": null,
            "align_items": null,
            "bottom": null,
            "_model_module": "@jupyter-widgets/base",
            "top": null,
            "grid_column": null,
            "overflow_y": null,
            "overflow_x": null,
            "grid_auto_flow": null,
            "grid_area": null,
            "grid_template_columns": null,
            "flex": null,
            "_model_name": "LayoutModel",
            "justify_items": null,
            "grid_row": null,
            "max_height": null,
            "align_content": null,
            "visibility": null,
            "align_self": null,
            "height": null,
            "min_height": null,
            "padding": null,
            "grid_auto_rows": null,
            "grid_gap": null,
            "max_width": null,
            "order": null,
            "_view_module_version": "1.2.0",
            "grid_template_areas": null,
            "object_position": null,
            "object_fit": null,
            "grid_auto_columns": null,
            "margin": null,
            "display": null,
            "left": null
          }
        }
      }
    }
  },
  "nbformat": 4,
  "nbformat_minor": 5
}